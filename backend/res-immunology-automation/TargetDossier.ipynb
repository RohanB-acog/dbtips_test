{
 "cells": [
  {
   "cell_type": "code",
   "execution_count": 105,
   "id": "1294e028",
   "metadata": {},
   "outputs": [],
   "source": [
    "import ipywidgets as widgets\n",
    "from ipywidgets import interact, VBox, Dropdown, Output\n",
    "from IPython.display import display, clear_output, HTML, IFrame, Markdown\n",
    "import numpy as np\n",
    "import pandas as pd\n",
    "import matplotlib.pyplot as plt\n",
    "from matplotlib.patches import Patch\n",
    "from matplotlib.colors import Normalize\n",
    "from matplotlib.cm import viridis\n",
    "import seaborn as sns\n",
    "import json\n",
    "import plotly.graph_objects as go\n",
    "from plotly.subplots import make_subplots\n",
    "from res_immunology_automation.src.scripts.target_analyzer import TargetAnalyzer\n",
    "from helper import (\n",
    "    display_target_information,\n",
    "    setup_disease_selection_interface,\n",
    "    parse_and_plot_targetability,\n",
    "    plot_tractability,\n",
    "    parse_gene_ontology,\n",
    "    display_go_ribbon,\n",
    "    parse_mouse_phenotypes,\n",
    "    #parse_and_display_homologue_table,\n",
    "    display_paralogs,\n",
    "    prepare_data,\n",
    "    setup_interactive_plot,\n",
    "    display_feature_viewer,\n",
    "    display_target_info,\n",
    "    display_organism_taxonomy_details,\n",
    "    display_topology_table,\n",
    "    process_and_display_knowndrugs,\n",
    "    display_safety_events\n",
    ")\n",
    "import warnings\n",
    "warnings.filterwarnings('ignore')"
   ]
  },
  {
   "cell_type": "markdown",
   "id": "67c2cd7f",
   "metadata": {},
   "source": [
    "### Target"
   ]
  },
  {
   "cell_type": "code",
   "execution_count": 81,
   "id": "be74f6a2",
   "metadata": {},
   "outputs": [
    {
     "name": "stdout",
     "output_type": "stream",
     "text": [
      "Please specify the target: CMKLR1\n"
     ]
    }
   ],
   "source": [
    "target = input(\"Please specify the target: \")"
   ]
  },
  {
   "cell_type": "markdown",
   "id": "cdaee8eb",
   "metadata": {},
   "source": [
    "## Target Introduction"
   ]
  },
  {
   "cell_type": "markdown",
   "id": "b23bef95",
   "metadata": {},
   "source": [
    "##### A brief introduction of the target."
   ]
  },
  {
   "cell_type": "code",
   "execution_count": 58,
   "id": "cbfae345",
   "metadata": {},
   "outputs": [
    {
     "name": "stdout",
     "output_type": "stream",
     "text": [
      "Getting ensembl id for ADORA3...\n",
      "ENSG00000282608\n",
      "Getting HGNC id for ADORA3...\n",
      "HGNC:268\n",
      "Getting ensembl id for ADORA3...\n",
      "ENSG00000282608\n",
      "Using Ensembl ID: ENSG00000282608\n"
     ]
    },
    {
     "data": {
      "text/html": [
       "\n",
       "    <table style='width: 100%; border: 1px solid black;'>\n",
       "        <tr>\n",
       "            <th style='border: 1px solid black; text-align: center;'>Field</th>\n",
       "            <th style='border: 1px solid black; text-align: center;'>Value</th>\n",
       "        </tr>\n",
       "        <tr>\n",
       "            <td style='border: 1px solid black; text-align: center;'>Accession</td>\n",
       "            <td style='border: 1px solid black; text-align: center;'>P0DMS8</td>\n",
       "        </tr>\n",
       "        <tr>\n",
       "            <td style='border: 1px solid black; text-align: center;'>Protein</td>\n",
       "            <td style='border: 1px solid black; text-align: center;'>Adenosine receptor A3</td>\n",
       "        </tr>\n",
       "        <tr>\n",
       "            <td style='border: 1px solid black; text-align: center;'>Gene</td>\n",
       "            <td style='border: 1px solid black; text-align: center;'>ADORA3</td>\n",
       "        </tr>\n",
       "        <tr>\n",
       "            <td style='border: 1px solid black; text-align: center;'>Status</td>\n",
       "            <td style='border: 1px solid black; text-align: center;'>UniProtKB reviewed (Swiss-Prot)</td>\n",
       "        </tr>\n",
       "        <tr>\n",
       "            <td style='border: 1px solid black; text-align: center;'>Organism</td>\n",
       "            <td style='border: 1px solid black; text-align: center;'>Homo sapiens</td>\n",
       "        </tr>\n",
       "        <tr>\n",
       "            <td style='border: 1px solid black; text-align: center;'>Protein Existence</td>\n",
       "            <td style='border: 1px solid black; text-align: center;'>1: Evidence at protein level</td>\n",
       "        </tr>\n",
       "        <tr>\n",
       "            <td style='border: 1px solid black; text-align: center;'>Annotation Score</td>\n",
       "            <td style='border: 1px solid black; text-align: center;'>5.0</td>\n",
       "        </tr>\n",
       "    </table>\n",
       "    "
      ],
      "text/plain": [
       "<IPython.core.display.HTML object>"
      ]
     },
     "metadata": {},
     "output_type": "display_data"
    }
   ],
   "source": [
    "analyzer = TargetAnalyzer(target)\n",
    "api_response = analyzer.get_target_introduction()\n",
    "display_target_info(api_response)"
   ]
  },
  {
   "cell_type": "markdown",
   "id": "c773040f",
   "metadata": {},
   "source": [
    "## Target Description"
   ]
  },
  {
   "cell_type": "markdown",
   "id": "9cca5b3a",
   "metadata": {},
   "source": [
    "##### This section provides a comprehensive introduction to the target, offering a detailed overview of its identity, background, significance, and a list of its synonyms."
   ]
  },
  {
   "cell_type": "code",
   "execution_count": 109,
   "id": "8eddc616",
   "metadata": {},
   "outputs": [
    {
     "name": "stdout",
     "output_type": "stream",
     "text": [
      "Getting ensembl id for ADORA3...\n",
      "ENSG00000282608\n",
      "Getting HGNC id for ADORA3...\n",
      "HGNC:268\n",
      "Getting ensembl id for ADORA3...\n",
      "ENSG00000282608\n",
      "Using Ensembl ID: ENSG00000282608\n"
     ]
    },
    {
     "data": {
      "application/vnd.jupyter.widget-view+json": {
       "model_id": "902570c8adda44168db01e28896962d3",
       "version_major": 2,
       "version_minor": 0
      },
      "text/plain": [
       "HTML(value='<b>Target ID:</b> ENSG00000282608<br>', layout=Layout(margin='10px 0px'))"
      ]
     },
     "metadata": {},
     "output_type": "display_data"
    },
    {
     "data": {
      "application/vnd.jupyter.widget-view+json": {
       "model_id": "9d617aca38b54cad882e5b4271a37618",
       "version_major": 2,
       "version_minor": 0
      },
      "text/plain": [
       "HTML(value='<b>Function Descriptions:</b>', layout=Layout(margin='10px 0px'))"
      ]
     },
     "metadata": {},
     "output_type": "display_data"
    },
    {
     "data": {
      "application/vnd.jupyter.widget-view+json": {
       "model_id": "9aa62425a97f42c8ba424210260e9517",
       "version_major": 2,
       "version_minor": 0
      },
      "text/plain": [
       "HTML(value=\"<span style='font-size: 14px;'>- [Isoform 2]: Receptor for adenosine. The activity of this recepto…"
      ]
     },
     "metadata": {},
     "output_type": "display_data"
    },
    {
     "data": {
      "application/vnd.jupyter.widget-view+json": {
       "model_id": "9fbcb9cc7e6e49d0a22f2ec4451e0b33",
       "version_major": 2,
       "version_minor": 0
      },
      "text/plain": [
       "HTML(value='<b>Synonyms (from UniProt):</b>', layout=Layout(margin='10px 0px'))"
      ]
     },
     "metadata": {},
     "output_type": "display_data"
    },
    {
     "data": {
      "application/vnd.jupyter.widget-view+json": {
       "model_id": "ea9602660f6d47db9fcff62c6a8fe534",
       "version_major": 2,
       "version_minor": 0
      },
      "text/plain": [
       "HTML(value=\"<span style='font-size: 14px;'>- Adenosine receptor A3</span><br>\", layout=Layout(margin='5px 0px'…"
      ]
     },
     "metadata": {},
     "output_type": "display_data"
    },
    {
     "data": {
      "application/vnd.jupyter.widget-view+json": {
       "model_id": "b79c0e3cc86e4fd69cca3eef4e6ed965",
       "version_major": 2,
       "version_minor": 0
      },
      "text/plain": [
       "HTML(value=\"<span style='font-size: 14px;'>- ADORA3</span><br>\", layout=Layout(margin='5px 0px'))"
      ]
     },
     "metadata": {},
     "output_type": "display_data"
    }
   ],
   "source": [
    "analyzer = TargetAnalyzer(target)\n",
    "response = analyzer.get_target_description()\n",
    "display_target_information(response)"
   ]
  },
  {
   "cell_type": "markdown",
   "id": "aad1cef5",
   "metadata": {},
   "source": [
    "## Taxonomy"
   ]
  },
  {
   "cell_type": "markdown",
   "id": "b4e4280b",
   "metadata": {},
   "source": [
    "##### This section provides information about the protein and gene name(s) and synonym(s) and about the organism that is the source of the protein sequence.  It provides information on how conserved a gene is. \n"
   ]
  },
  {
   "cell_type": "code",
   "execution_count": 60,
   "id": "ce739377",
   "metadata": {},
   "outputs": [
    {
     "data": {
      "text/html": [
       "<table border=\"1\" class=\"dataframe table table-striped table-bordered\">\n",
       "  <thead>\n",
       "    <tr style=\"text-align: right;\">\n",
       "      <th>Field</th>\n",
       "      <th>Value</th>\n",
       "    </tr>\n",
       "  </thead>\n",
       "  <tbody>\n",
       "    <tr>\n",
       "      <td>Taxonomic identifier</td>\n",
       "      <td><a href='https://www.ncbi.nlm.nih.gov/Taxonomy/Browser/wwwtax.cgi?id=9606' target='_blank'>9606 NCBI</a></td>\n",
       "    </tr>\n",
       "    <tr>\n",
       "      <td>Organism</td>\n",
       "      <td>Homo sapiens (Human)</td>\n",
       "    </tr>\n",
       "    <tr>\n",
       "      <td>Taxonomic lineage</td>\n",
       "      <td><a href='https://www.ncbi.nlm.nih.gov/Taxonomy/Browser/wwwtax.cgi?name=Eukaryota' target='_blank'>Eukaryota</a> > <a href='https://www.ncbi.nlm.nih.gov/Taxonomy/Browser/wwwtax.cgi?name=Metazoa' target='_blank'>Metazoa</a> > <a href='https://www.ncbi.nlm.nih.gov/Taxonomy/Browser/wwwtax.cgi?name=Chordata' target='_blank'>Chordata</a> > <a href='https://www.ncbi.nlm.nih.gov/Taxonomy/Browser/wwwtax.cgi?name=Craniata' target='_blank'>Craniata</a> > <a href='https://www.ncbi.nlm.nih.gov/Taxonomy/Browser/wwwtax.cgi?name=Vertebrata' target='_blank'>Vertebrata</a> > <a href='https://www.ncbi.nlm.nih.gov/Taxonomy/Browser/wwwtax.cgi?name=Euteleostomi' target='_blank'>Euteleostomi</a> > <a href='https://www.ncbi.nlm.nih.gov/Taxonomy/Browser/wwwtax.cgi?name=Mammalia' target='_blank'>Mammalia</a> > <a href='https://www.ncbi.nlm.nih.gov/Taxonomy/Browser/wwwtax.cgi?name=Eutheria' target='_blank'>Eutheria</a> > <a href='https://www.ncbi.nlm.nih.gov/Taxonomy/Browser/wwwtax.cgi?name=Euarchontoglires' target='_blank'>Euarchontoglires</a> > <a href='https://www.ncbi.nlm.nih.gov/Taxonomy/Browser/wwwtax.cgi?name=Primates' target='_blank'>Primates</a> > <a href='https://www.ncbi.nlm.nih.gov/Taxonomy/Browser/wwwtax.cgi?name=Haplorrhini' target='_blank'>Haplorrhini</a> > <a href='https://www.ncbi.nlm.nih.gov/Taxonomy/Browser/wwwtax.cgi?name=Catarrhini' target='_blank'>Catarrhini</a> > <a href='https://www.ncbi.nlm.nih.gov/Taxonomy/Browser/wwwtax.cgi?name=Hominidae' target='_blank'>Hominidae</a> > <a href='https://www.ncbi.nlm.nih.gov/Taxonomy/Browser/wwwtax.cgi?name=Homo' target='_blank'>Homo</a></td>\n",
       "    </tr>\n",
       "  </tbody>\n",
       "</table>"
      ],
      "text/plain": [
       "<IPython.core.display.HTML object>"
      ]
     },
     "metadata": {},
     "output_type": "display_data"
    },
    {
     "data": {
      "text/html": [
       "\n",
       "    <style>\n",
       "    .table {\n",
       "        font-size: 18px;\n",
       "        text-align: center;\n",
       "    }\n",
       "    .table th, .table td {\n",
       "        text-align: center;\n",
       "        vertical-align: middle;\n",
       "    }\n",
       "    </style>\n",
       "    "
      ],
      "text/plain": [
       "<IPython.core.display.HTML object>"
      ]
     },
     "metadata": {},
     "output_type": "display_data"
    }
   ],
   "source": [
    "api_response = analyzer.get_target_introduction()\n",
    "display_organism_taxonomy_details(api_response)"
   ]
  },
  {
   "cell_type": "markdown",
   "id": "4516b851",
   "metadata": {},
   "source": [
    "## Disease Association"
   ]
  },
  {
   "cell_type": "markdown",
   "id": "329ae87e",
   "metadata": {},
   "source": [
    "##### A comprehensive view of the target’s relevance across related diseases and phenotypes."
   ]
  },
  {
   "cell_type": "code",
   "execution_count": 112,
   "id": "35b4b2fd",
   "metadata": {
    "scrolled": false
   },
   "outputs": [
    {
     "data": {
      "application/vnd.jupyter.widget-view+json": {
       "model_id": "69654b98dda04661bacb2d67c88b48f5",
       "version_major": 2,
       "version_minor": 0
      },
      "text/plain": [
       "VBox(children=(Text(value='ADORA3', description='Enter Target:'), VBox(children=(Checkbox(value=True, descript…"
      ]
     },
     "metadata": {},
     "output_type": "display_data"
    }
   ],
   "source": [
    "setup_disease_selection_interface(target)"
   ]
  },
  {
   "cell_type": "markdown",
   "id": "dacfab53",
   "metadata": {},
   "source": [
    "## Targetability"
   ]
  },
  {
   "cell_type": "markdown",
   "id": "bcf03de2",
   "metadata": {},
   "source": [
    "##### The section is designed to visually inform on target prioritisation. Using a colour scale, BLUE indicates potentially NEGATIVE attributes and YELLOW indicates potentially POSITIVE attributes, providing information to help users assess the targets for further prioritisation or deprioritisation, respectively."
   ]
  },
  {
   "cell_type": "code",
   "execution_count": 62,
   "id": "68f1b5c5",
   "metadata": {},
   "outputs": [
    {
     "name": "stdout",
     "output_type": "stream",
     "text": [
      "Most associated disease: kidney failure with EFO ID: EFO_1002048\n",
      "Found EFO ID for kidney failure: EFO:1002048\n"
     ]
    },
    {
     "data": {
      "image/png": "[encoded data removed]",
      "text/plain": [
       "<Figure size 1400x400 with 2 Axes>"
      ]
     },
     "metadata": {},
     "output_type": "display_data"
    }
   ],
   "source": [
    "response = analyzer.get_targetablitiy()\n",
    "parse_and_plot_targetability(response,target)"
   ]
  },
  {
   "cell_type": "markdown",
   "id": "eaf2fbf9",
   "metadata": {},
   "source": [
    "## Tractability"
   ]
  },
  {
   "cell_type": "markdown",
   "id": "e4fc41dd",
   "metadata": {},
   "source": [
    "##### Assist in target prioritisation by identifying potential drug targets suitable for discovery pipelines and therapeutic modalities with small molecule, antibody, and other clinical modalities."
   ]
  },
  {
   "cell_type": "code",
   "execution_count": 63,
   "id": "12235c48",
   "metadata": {},
   "outputs": [
    {
     "name": "stdout",
     "output_type": "stream",
     "text": [
      "Using Ensembl ID: ENSG00000282608\n"
     ]
    },
    {
     "data": {
      "image/png": "[encoded data removed]",
      "text/plain": [
       "<Figure size 1500x600 with 4 Axes>"
      ]
     },
     "metadata": {},
     "output_type": "display_data"
    }
   ],
   "source": [
    "response = analyzer.get_tractability()\n",
    "plot_tractability(response)"
   ]
  },
  {
   "cell_type": "markdown",
   "id": "39a81c6c",
   "metadata": {},
   "source": [
    "## Target Ontology"
   ]
  },
  {
   "cell_type": "markdown",
   "id": "d227f366",
   "metadata": {},
   "source": [
    "##### Ontologies usually consist of a set of classes (or terms or concepts) with relations that operate between them. The Gene Ontology (GO) describes our knowledge of the biological domain with respect to three aspects: cellular component, biological process, and molecular function. Cell color indicates annotation volume: dark blue for higher volume and light blue for lower volume."
   ]
  },
  {
   "cell_type": "code",
   "execution_count": 64,
   "id": "dcdc080f",
   "metadata": {},
   "outputs": [
    {
     "data": {
      "text/html": [
       "<table border=\"1\" class=\"dataframe\">\n",
       "  <thead>\n",
       "    <tr style=\"text-align: right;\">\n",
       "      <th></th>\n",
       "      <th>GO ID</th>\n",
       "      <th>Name</th>\n",
       "      <th>Aspect</th>\n",
       "      <th>Evidence</th>\n",
       "      <th>Gene Product</th>\n",
       "      <th>Source</th>\n",
       "    </tr>\n",
       "  </thead>\n",
       "  <tbody>\n",
       "    <tr>\n",
       "      <th>1</th>\n",
       "      <td>GO:0030336</td>\n",
       "      <td><a href=\"https://amigo.geneontology.org/amigo/term/GO:0030336\">negative regulation of cell migration</a></td>\n",
       "      <td>Biological Process</td>\n",
       "      <td>IMP</td>\n",
       "      <td>P0DMS8</td>\n",
       "      <td>PMID:27886186</td>\n",
       "    </tr>\n",
       "    <tr>\n",
       "      <th>2</th>\n",
       "      <td>GO:0008285</td>\n",
       "      <td><a href=\"https://amigo.geneontology.org/amigo/term/GO:0008285\">negative regulation of cell population proliferation</a></td>\n",
       "      <td>Biological Process</td>\n",
       "      <td>IMP</td>\n",
       "      <td>P0DMS8</td>\n",
       "      <td>PMID:27886186</td>\n",
       "    </tr>\n",
       "    <tr>\n",
       "      <th>3</th>\n",
       "      <td>GO:0007165</td>\n",
       "      <td><a href=\"https://amigo.geneontology.org/amigo/term/GO:0007165\">signal transduction</a></td>\n",
       "      <td>Biological Process</td>\n",
       "      <td>TAS</td>\n",
       "      <td>P0DMS8</td>\n",
       "      <td>PMID:8399349</td>\n",
       "    </tr>\n",
       "    <tr>\n",
       "      <th>4</th>\n",
       "      <td>GO:0006954</td>\n",
       "      <td><a href=\"https://amigo.geneontology.org/amigo/term/GO:0006954\">inflammatory response</a></td>\n",
       "      <td>Biological Process</td>\n",
       "      <td>TAS</td>\n",
       "      <td>P0DMS8</td>\n",
       "      <td>PMID:9164961</td>\n",
       "    </tr>\n",
       "    <tr>\n",
       "      <th>5</th>\n",
       "      <td>GO:0001973</td>\n",
       "      <td><a href=\"https://amigo.geneontology.org/amigo/term/GO:0001973\">G protein-coupled adenosine receptor signaling pathway</a></td>\n",
       "      <td>Biological Process</td>\n",
       "      <td>IBA</td>\n",
       "      <td>P0DMS8</td>\n",
       "      <td>GO_REF:0000033</td>\n",
       "    </tr>\n",
       "    <tr>\n",
       "      <th>6</th>\n",
       "      <td>GO:0007190</td>\n",
       "      <td><a href=\"https://amigo.geneontology.org/amigo/term/GO:0007190\">activation of adenylate cyclase activity</a></td>\n",
       "      <td>Biological Process</td>\n",
       "      <td>TAS</td>\n",
       "      <td>P0DMS8</td>\n",
       "      <td>PMID:9380026</td>\n",
       "    </tr>\n",
       "    <tr>\n",
       "      <th>7</th>\n",
       "      <td>GO:0099171</td>\n",
       "      <td><a href=\"https://amigo.geneontology.org/amigo/term/GO:0099171\">presynaptic modulation of chemical synaptic transmission</a></td>\n",
       "      <td>Biological Process</td>\n",
       "      <td>IEA</td>\n",
       "      <td>P0DMS8</td>\n",
       "      <td>GO_REF:0000107</td>\n",
       "    </tr>\n",
       "    <tr>\n",
       "      <th>8</th>\n",
       "      <td>GO:0014061</td>\n",
       "      <td><a href=\"https://amigo.geneontology.org/amigo/term/GO:0014061\">regulation of norepinephrine secretion</a></td>\n",
       "      <td>Biological Process</td>\n",
       "      <td>IEA</td>\n",
       "      <td>P0DMS8</td>\n",
       "      <td>GO_REF:0000107</td>\n",
       "    </tr>\n",
       "    <tr>\n",
       "      <th>9</th>\n",
       "      <td>GO:0009611</td>\n",
       "      <td><a href=\"https://amigo.geneontology.org/amigo/term/GO:0009611\">response to wounding</a></td>\n",
       "      <td>Biological Process</td>\n",
       "      <td>TAS</td>\n",
       "      <td>P0DMS8</td>\n",
       "      <td>PMID:9837869</td>\n",
       "    </tr>\n",
       "    <tr>\n",
       "      <th>10</th>\n",
       "      <td>GO:0032088</td>\n",
       "      <td><a href=\"https://amigo.geneontology.org/amigo/term/GO:0032088\">negative regulation of NF-kappaB transcription factor activity</a></td>\n",
       "      <td>Biological Process</td>\n",
       "      <td>IMP</td>\n",
       "      <td>P0DMS8</td>\n",
       "      <td>PMID:27886186</td>\n",
       "    </tr>\n",
       "    <tr>\n",
       "      <th>11</th>\n",
       "      <td>GO:0008016</td>\n",
       "      <td><a href=\"https://amigo.geneontology.org/amigo/term/GO:0008016\">regulation of heart contraction</a></td>\n",
       "      <td>Biological Process</td>\n",
       "      <td>TAS</td>\n",
       "      <td>P0DMS8</td>\n",
       "      <td>PMID:9837869</td>\n",
       "    </tr>\n",
       "    <tr>\n",
       "      <th>12</th>\n",
       "      <td>GO:0007165</td>\n",
       "      <td><a href=\"https://amigo.geneontology.org/amigo/term/GO:0007165\">signal transduction</a></td>\n",
       "      <td>Biological Process</td>\n",
       "      <td>TAS</td>\n",
       "      <td>P0DMS8</td>\n",
       "      <td>PMID:9380026</td>\n",
       "    </tr>\n",
       "    <tr>\n",
       "      <th>13</th>\n",
       "      <td>GO:0005886</td>\n",
       "      <td><a href=\"https://amigo.geneontology.org/amigo/term/GO:0005886\">plasma membrane</a></td>\n",
       "      <td>Cellular Component</td>\n",
       "      <td>TAS</td>\n",
       "      <td>P0DMS8</td>\n",
       "      <td>Reactome:R-HSA-380073</td>\n",
       "    </tr>\n",
       "    <tr>\n",
       "      <th>14</th>\n",
       "      <td>GO:0045202</td>\n",
       "      <td><a href=\"https://amigo.geneontology.org/amigo/term/GO:0045202\">synapse</a></td>\n",
       "      <td>Cellular Component</td>\n",
       "      <td>IBA</td>\n",
       "      <td>P0DMS8</td>\n",
       "      <td>GO_REF:0000033</td>\n",
       "    </tr>\n",
       "    <tr>\n",
       "      <th>15</th>\n",
       "      <td>GO:0098685</td>\n",
       "      <td><a href=\"https://amigo.geneontology.org/amigo/term/GO:0098685\">Schaffer collateral - CA1 synapse</a></td>\n",
       "      <td>Cellular Component</td>\n",
       "      <td>IEA</td>\n",
       "      <td>P0DMS8</td>\n",
       "      <td>GO_REF:0000107</td>\n",
       "    </tr>\n",
       "    <tr>\n",
       "      <th>16</th>\n",
       "      <td>GO:0030425</td>\n",
       "      <td><a href=\"https://amigo.geneontology.org/amigo/term/GO:0030425\">dendrite</a></td>\n",
       "      <td>Cellular Component</td>\n",
       "      <td>IBA</td>\n",
       "      <td>P0DMS8</td>\n",
       "      <td>GO_REF:0000033</td>\n",
       "    </tr>\n",
       "    <tr>\n",
       "      <th>17</th>\n",
       "      <td>GO:0005886</td>\n",
       "      <td><a href=\"https://amigo.geneontology.org/amigo/term/GO:0005886\">plasma membrane</a></td>\n",
       "      <td>Cellular Component</td>\n",
       "      <td>TAS</td>\n",
       "      <td>P0DMS8</td>\n",
       "      <td>Reactome:R-HSA-749454</td>\n",
       "    </tr>\n",
       "    <tr>\n",
       "      <th>18</th>\n",
       "      <td>GO:0005886</td>\n",
       "      <td><a href=\"https://amigo.geneontology.org/amigo/term/GO:0005886\">plasma membrane</a></td>\n",
       "      <td>Cellular Component</td>\n",
       "      <td>IBA</td>\n",
       "      <td>P0DMS8</td>\n",
       "      <td>GO_REF:0000033</td>\n",
       "    </tr>\n",
       "    <tr>\n",
       "      <th>19</th>\n",
       "      <td>GO:0005886</td>\n",
       "      <td><a href=\"https://amigo.geneontology.org/amigo/term/GO:0005886\">plasma membrane</a></td>\n",
       "      <td>Cellular Component</td>\n",
       "      <td>TAS</td>\n",
       "      <td>P0DMS8</td>\n",
       "      <td>Reactome:R-HSA-418904</td>\n",
       "    </tr>\n",
       "    <tr>\n",
       "      <th>20</th>\n",
       "      <td>GO:0042734</td>\n",
       "      <td><a href=\"https://amigo.geneontology.org/amigo/term/GO:0042734\">presynaptic membrane</a></td>\n",
       "      <td>Cellular Component</td>\n",
       "      <td>IEA</td>\n",
       "      <td>P0DMS8</td>\n",
       "      <td>GO_REF:0000107</td>\n",
       "    </tr>\n",
       "    <tr>\n",
       "      <th>21</th>\n",
       "      <td>GO:0005886</td>\n",
       "      <td><a href=\"https://amigo.geneontology.org/amigo/term/GO:0005886\">plasma membrane</a></td>\n",
       "      <td>Cellular Component</td>\n",
       "      <td>TAS</td>\n",
       "      <td>P0DMS8</td>\n",
       "      <td>Reactome:R-HSA-749456</td>\n",
       "    </tr>\n",
       "    <tr>\n",
       "      <th>22</th>\n",
       "      <td>GO:0001609</td>\n",
       "      <td><a href=\"https://amigo.geneontology.org/amigo/term/GO:0001609\">G protein-coupled adenosine receptor activity</a></td>\n",
       "      <td>Molecular Function</td>\n",
       "      <td>IBA</td>\n",
       "      <td>P0DMS8</td>\n",
       "      <td>GO_REF:0000033</td>\n",
       "    </tr>\n",
       "  </tbody>\n",
       "</table>"
      ],
      "text/plain": [
       "<IPython.core.display.HTML object>"
      ]
     },
     "metadata": {},
     "output_type": "display_data"
    }
   ],
   "source": [
    "response = analyzer.get_target_ontology()\n",
    "ontology_df = parse_gene_ontology(response)\n",
    "display(HTML(ontology_df.to_html(escape=False)))"
   ]
  },
  {
   "cell_type": "code",
   "execution_count": 65,
   "id": "cc7b86d6",
   "metadata": {},
   "outputs": [
    {
     "data": {
      "text/html": [
       "\n",
       "        <iframe\n",
       "            width=\"100%\"\n",
       "            height=\"400px\"\n",
       "            src=\"go_ribbon1.html\"\n",
       "            frameborder=\"0\"\n",
       "            allowfullscreen\n",
       "            \n",
       "        ></iframe>\n",
       "        "
      ],
      "text/plain": [
       "<IPython.lib.display.IFrame at 0x7f59d887ef20>"
      ]
     },
     "metadata": {},
     "output_type": "display_data"
    }
   ],
   "source": [
    "display_go_ribbon(analyzer.hgnc_id)"
   ]
  },
  {
   "cell_type": "markdown",
   "id": "d1c1765a",
   "metadata": {},
   "source": [
    "## Mouse Phenotypes"
   ]
  },
  {
   "cell_type": "markdown",
   "id": "abfa19e9",
   "metadata": {},
   "source": [
    "##### Mouse models help prioritize and validate potential drug targets. If a gene is associated with relevant phenotypes in mice, it strengthens its candidacy for further investigation. "
   ]
  },
  {
   "cell_type": "code",
   "execution_count": 66,
   "id": "c28bdd21",
   "metadata": {},
   "outputs": [
    {
     "name": "stdout",
     "output_type": "stream",
     "text": [
      "Using Ensembl ID: ENSG00000282608\n"
     ]
    },
    {
     "data": {
      "text/html": [
       "<table><tr><th>Gene</th><th>Phenotype</th><th>Category</th><th>Allelic Composition</th></tr><tr><td><a href=\"https://www.informatics.jax.org/marker/MGI:104847\"> Adora3</a></td><td><a href=\"https://www.ebi.ac.uk/ols4/ontologies/mp/terms?obo_id=MP:0003022\">increased coronary flow rate</a></td><td><a href=\"https://www.ebi.ac.uk/ols4/ontologies/mp/classes?obo_id=MP:0005385\">cardiovascular system phenotype</a></td><td><a href=\"https://www.informatics.jax.org/allele/genoview/MGI:4943461\">Adora3<tm1Jbsn>/Adora3<tm1Jbsn></a></td></tr><tr><td><a href=\"https://www.informatics.jax.org/marker/MGI:104847\"> Adora3</a></td><td><a href=\"https://www.ebi.ac.uk/ols4/ontologies/mp/terms?obo_id=MP:0008561\">decreased tumor necrosis factor secretion</a></td><td><a href=\"https://www.ebi.ac.uk/ols4/ontologies/mp/classes?obo_id=MP:0005387\">immune system phenotype</a></td><td><a href=\"https://www.informatics.jax.org/allele/genoview/MGI:2653748\">Adora3<tm1Jbsn>/Adora3<tm1Jbsn></a></td></tr><tr><td><a href=\"https://www.informatics.jax.org/marker/MGI:104847\"> Adora3</a></td><td><a href=\"https://www.ebi.ac.uk/ols4/ontologies/mp/terms?obo_id=MP:0008763\">abnormal mast cell degranulation</a></td><td><a href=\"https://www.ebi.ac.uk/ols4/ontologies/mp/classes?obo_id=MP:0005397\">hematopoietic system phenotype</a>, <a href=\"https://www.ebi.ac.uk/ols4/ontologies/mp/classes?obo_id=MP:0005387\">immune system phenotype</a>, <a href=\"https://www.ebi.ac.uk/ols4/ontologies/mp/classes?obo_id=MP:0005384\">cellular phenotype</a></td><td><a href=\"https://www.informatics.jax.org/allele/genoview/MGI:4943477\">Adora3<tm1Jbsn>/Adora3<tm1Jbsn></a></td></tr><tr><td><a href=\"https://www.informatics.jax.org/marker/MGI:104847\"> Adora3</a></td><td><a href=\"https://www.ebi.ac.uk/ols4/ontologies/mp/terms?obo_id=MP:0008719\">impaired neutrophil recruitment</a></td><td><a href=\"https://www.ebi.ac.uk/ols4/ontologies/mp/classes?obo_id=MP:0005397\">hematopoietic system phenotype</a>, <a href=\"https://www.ebi.ac.uk/ols4/ontologies/mp/classes?obo_id=MP:0005387\">immune system phenotype</a></td><td><a href=\"https://www.informatics.jax.org/allele/genoview/MGI:4943477\">Adora3<tm1Jbsn>/Adora3<tm1Jbsn></a></td></tr><tr><td><a href=\"https://www.informatics.jax.org/marker/MGI:104847\"> Adora3</a></td><td><a href=\"https://www.ebi.ac.uk/ols4/ontologies/mp/terms?obo_id=MP:0003038\">decreased myocardial infarct size</a></td><td><a href=\"https://www.ebi.ac.uk/ols4/ontologies/mp/classes?obo_id=MP:0005376\">homeostasis/metabolism phenotype</a>, <a href=\"https://www.ebi.ac.uk/ols4/ontologies/mp/classes?obo_id=MP:0005385\">cardiovascular system phenotype</a></td><td><a href=\"https://www.informatics.jax.org/allele/genoview/MGI:4943461\">Adora3<tm1Jbsn>/Adora3<tm1Jbsn></a></td></tr><tr><td><a href=\"https://www.informatics.jax.org/marker/MGI:104847\"> Adora3</a></td><td><a href=\"https://www.ebi.ac.uk/ols4/ontologies/mp/terms?obo_id=MP:0002843\">decreased systemic arterial blood pressure</a></td><td><a href=\"https://www.ebi.ac.uk/ols4/ontologies/mp/classes?obo_id=MP:0005385\">cardiovascular system phenotype</a></td><td><a href=\"https://www.informatics.jax.org/allele/genoview/MGI:4943461\">Adora3<tm1Jbsn>/Adora3<tm1Jbsn></a></td></tr><tr><td><a href=\"https://www.informatics.jax.org/marker/MGI:104847\"> Adora3</a></td><td><a href=\"https://www.ebi.ac.uk/ols4/ontologies/mp/terms?obo_id=MP:0005087\">decreased acute inflammation</a></td><td><a href=\"https://www.ebi.ac.uk/ols4/ontologies/mp/classes?obo_id=MP:0005387\">immune system phenotype</a></td><td><a href=\"https://www.informatics.jax.org/allele/genoview/MGI:4943461\">Adora3<tm1Jbsn>/Adora3<tm1Jbsn></a></td></tr><tr><td><a href=\"https://www.informatics.jax.org/marker/MGI:104847\"> Adora3</a></td><td><a href=\"https://www.ebi.ac.uk/ols4/ontologies/mp/terms?obo_id=MP:0004042\">decreased susceptibility to kidney reperfusion injury</a></td><td><a href=\"https://www.ebi.ac.uk/ols4/ontologies/mp/classes?obo_id=MP:0005376\">homeostasis/metabolism phenotype</a>, <a href=\"https://www.ebi.ac.uk/ols4/ontologies/mp/classes?obo_id=MP:0005367\">renal/urinary system phenotype</a></td><td><a href=\"https://www.informatics.jax.org/allele/genoview/MGI:4943477\">Adora3<tm1Jbsn>/Adora3<tm1Jbsn></a></td></tr><tr><td><a href=\"https://www.informatics.jax.org/marker/MGI:104847\"> Adora3</a></td><td><a href=\"https://www.ebi.ac.uk/ols4/ontologies/mp/terms?obo_id=MP:0003638\">abnormal response/metabolism to endogenous compounds</a></td><td><a href=\"https://www.ebi.ac.uk/ols4/ontologies/mp/classes?obo_id=MP:0005376\">homeostasis/metabolism phenotype</a></td><td><a href=\"https://www.informatics.jax.org/allele/genoview/MGI:4943477\">Adora3<tm1Jbsn>/Adora3<tm1Jbsn></a>, <a href=\"https://www.informatics.jax.org/allele/genoview/MGI:4943461\">Adora3<tm1Jbsn>/Adora3<tm1Jbsn></a></td></tr><tr><td><a href=\"https://www.informatics.jax.org/marker/MGI:104847\"> Adora3</a></td><td><a href=\"https://www.ebi.ac.uk/ols4/ontologies/mp/terms?obo_id=MP:0008765\">decreased mast cell degranulation</a></td><td><a href=\"https://www.ebi.ac.uk/ols4/ontologies/mp/classes?obo_id=MP:0005397\">hematopoietic system phenotype</a>, <a href=\"https://www.ebi.ac.uk/ols4/ontologies/mp/classes?obo_id=MP:0005387\">immune system phenotype</a>, <a href=\"https://www.ebi.ac.uk/ols4/ontologies/mp/classes?obo_id=MP:0005384\">cellular phenotype</a></td><td><a href=\"https://www.informatics.jax.org/allele/genoview/MGI:3613463\">Adora3<tm1(ADORA3)Msth>/Adora3<tm1(ADORA3)Msth></a></td></tr><tr><td><a href=\"https://www.informatics.jax.org/marker/MGI:104847\"> Adora3</a></td><td><a href=\"https://www.ebi.ac.uk/ols4/ontologies/mp/terms?obo_id=MP:0002736\">abnormal nociception after inflammation</a></td><td><a href=\"https://www.ebi.ac.uk/ols4/ontologies/mp/classes?obo_id=MP:0005386\">behavior/neurological phenotype</a></td><td><a href=\"https://www.informatics.jax.org/allele/genoview/MGI:4943461\">Adora3<tm1Jbsn>/Adora3<tm1Jbsn></a></td></tr><tr><td><a href=\"https://www.informatics.jax.org/marker/MGI:104847\"> Adora3</a></td><td><a href=\"https://www.ebi.ac.uk/ols4/ontologies/mp/terms?obo_id=MP:0005554\">decreased circulating creatinine level</a></td><td><a href=\"https://www.ebi.ac.uk/ols4/ontologies/mp/classes?obo_id=MP:0005376\">homeostasis/metabolism phenotype</a></td><td><a href=\"https://www.informatics.jax.org/allele/genoview/MGI:4943477\">Adora3<tm1Jbsn>/Adora3<tm1Jbsn></a></td></tr><tr><td><a href=\"https://www.informatics.jax.org/marker/MGI:104847\"> Adora3</a></td><td><a href=\"https://www.ebi.ac.uk/ols4/ontologies/mp/terms?obo_id=MP:0002423\">abnormal mast cell physiology</a></td><td><a href=\"https://www.ebi.ac.uk/ols4/ontologies/mp/classes?obo_id=MP:0005397\">hematopoietic system phenotype</a>, <a href=\"https://www.ebi.ac.uk/ols4/ontologies/mp/classes?obo_id=MP:0005387\">immune system phenotype</a></td><td><a href=\"https://www.informatics.jax.org/allele/genoview/MGI:2653748\">Adora3<tm1Jbsn>/Adora3<tm1Jbsn></a>, <a href=\"https://www.informatics.jax.org/allele/genoview/MGI:3613463\">Adora3<tm1(ADORA3)Msth>/Adora3<tm1(ADORA3)Msth></a></td></tr><tr><td><a href=\"https://www.informatics.jax.org/marker/MGI:104847\"> Adora3</a></td><td><a href=\"https://www.ebi.ac.uk/ols4/ontologies/mp/terms?obo_id=MP:0002335\">decreased airway responsiveness</a></td><td><a href=\"https://www.ebi.ac.uk/ols4/ontologies/mp/classes?obo_id=MP:0005388\">respiratory system phenotype</a></td><td><a href=\"https://www.informatics.jax.org/allele/genoview/MGI:4943477\">Adora3<tm1Jbsn>/Adora3<tm1Jbsn></a></td></tr><tr><td><a href=\"https://www.informatics.jax.org/marker/MGI:104847\"> Adora3</a></td><td><a href=\"https://www.ebi.ac.uk/ols4/ontologies/mp/terms?obo_id=MP:0005260\">ocular hypotension</a></td><td><a href=\"https://www.ebi.ac.uk/ols4/ontologies/mp/classes?obo_id=MP:0005391\">vision/eye phenotype</a></td><td><a href=\"https://www.informatics.jax.org/allele/genoview/MGI:4943477\">Adora3<tm1Jbsn>/Adora3<tm1Jbsn></a></td></tr></table>"
      ],
      "text/plain": [
       "<IPython.core.display.HTML object>"
      ]
     },
     "execution_count": 66,
     "metadata": {},
     "output_type": "execute_result"
    }
   ],
   "source": [
    "response = analyzer.get_mouse_phenotypes()\n",
    "parse_mouse_phenotypes(response)"
   ]
  },
  {
   "cell_type": "markdown",
   "id": "3f90c8cd",
   "metadata": {},
   "source": [
    "## Paralogs"
   ]
  },
  {
   "cell_type": "markdown",
   "id": "d37bcb03",
   "metadata": {},
   "source": [
    "##### Description:  Homology for a target across selected species."
   ]
  },
  {
   "cell_type": "code",
   "execution_count": 67,
   "id": "e0951393",
   "metadata": {},
   "outputs": [
    {
     "data": {
      "text/html": [
       "<table border=\"1\" class=\"dataframe\">\n",
       "  <thead>\n",
       "    <tr style=\"text-align: right;\">\n",
       "      <th></th>\n",
       "      <th>Species</th>\n",
       "      <th>species_id</th>\n",
       "      <th>Gene1 Symbol</th>\n",
       "      <th>Paralog Score</th>\n",
       "      <th>DIOPT Score</th>\n",
       "      <th>Paralog Pair</th>\n",
       "      <th>Gene2 Symbol</th>\n",
       "      <th>1-Protein Acc</th>\n",
       "      <th>2-Protein Acc</th>\n",
       "      <th>Alignment Length</th>\n",
       "      <th>Identity Score</th>\n",
       "      <th>Similarity Score</th>\n",
       "      <th>Common GO slim</th>\n",
       "      <th>Common Yeast Paralogs</th>\n",
       "      <th>Common Fly Paralogs</th>\n",
       "      <th>Common Protein Interactors</th>\n",
       "      <th>Common Genetic Interactors</th>\n",
       "      <th>Coexpressed Samples</th>\n",
       "      <th>Tissue Expression Correlation</th>\n",
       "      <th>Cell Line Expression Correlation</th>\n",
       "    </tr>\n",
       "  </thead>\n",
       "  <tbody>\n",
       "    <tr>\n",
       "      <th>1</th>\n",
       "      <td>human</td>\n",
       "      <td>9606</td>\n",
       "      <td>ADORA3</td>\n",
       "      <td>3.40</td>\n",
       "      <td>4</td>\n",
       "      <td><a href='https://www.flyrnai.org/tools/paralogs/web/expression/2906284'>text show expression data</a></td>\n",
       "      <td>ADORA1</td>\n",
       "      <td>NP_000668</td>\n",
       "      <td>NP_000665</td>\n",
       "      <td>322</td>\n",
       "      <td>0.49</td>\n",
       "      <td>0.69</td>\n",
       "      <td>GO:0004871(signal transducer activity);GO:0005623(cell);GO:0007165(signal transduction)</td>\n",
       "      <td></td>\n",
       "      <td>mAChR-C(DIOPT=1,1);AdoR(DIOPT=5,7);</td>\n",
       "      <td>0</td>\n",
       "      <td>0</td>\n",
       "      <td>2</td>\n",
       "      <td>0.16309</td>\n",
       "      <td>-0.12740</td>\n",
       "    </tr>\n",
       "    <tr>\n",
       "      <th>2</th>\n",
       "      <td>human</td>\n",
       "      <td>9606</td>\n",
       "      <td>ADORA3</td>\n",
       "      <td>3.12</td>\n",
       "      <td>4</td>\n",
       "      <td><a href='https://www.flyrnai.org/tools/paralogs/web/expression/2906286'>text show expression data</a></td>\n",
       "      <td>ADORA2B</td>\n",
       "      <td>NP_000668</td>\n",
       "      <td>NP_000667</td>\n",
       "      <td>315</td>\n",
       "      <td>0.39</td>\n",
       "      <td>0.58</td>\n",
       "      <td>GO:0004871(signal transducer activity);GO:0005623(cell);GO:0007165(signal transduction)</td>\n",
       "      <td></td>\n",
       "      <td>AdoR(DIOPT=5,8);mAChR-C(DIOPT=1,1);</td>\n",
       "      <td>0</td>\n",
       "      <td>0</td>\n",
       "      <td>0</td>\n",
       "      <td>-0.25230</td>\n",
       "      <td>-0.14580</td>\n",
       "    </tr>\n",
       "    <tr>\n",
       "      <th>3</th>\n",
       "      <td>human</td>\n",
       "      <td>9606</td>\n",
       "      <td>ADORA3</td>\n",
       "      <td>3.04</td>\n",
       "      <td>4</td>\n",
       "      <td><a href='https://www.flyrnai.org/tools/paralogs/web/expression/2906285'>text show expression data</a></td>\n",
       "      <td>ADORA2A</td>\n",
       "      <td>NP_000668</td>\n",
       "      <td>NP_000666</td>\n",
       "      <td>336</td>\n",
       "      <td>0.39</td>\n",
       "      <td>0.59</td>\n",
       "      <td>GO:0004871(signal transducer activity);GO:0005623(cell);GO:0007165(signal transduction)</td>\n",
       "      <td></td>\n",
       "      <td>mAChR-C(DIOPT=1,1);AdoR(DIOPT=5,6);</td>\n",
       "      <td>0</td>\n",
       "      <td>0</td>\n",
       "      <td>1</td>\n",
       "      <td>-0.12997</td>\n",
       "      <td>0.05964</td>\n",
       "    </tr>\n",
       "    <tr>\n",
       "      <th>4</th>\n",
       "      <td>human</td>\n",
       "      <td>9606</td>\n",
       "      <td>ADORA3</td>\n",
       "      <td>2.55</td>\n",
       "      <td>1</td>\n",
       "      <td><a href='https://www.flyrnai.org/tools/paralogs/web/expression/2906296'>text show expression data</a></td>\n",
       "      <td>GPBAR1</td>\n",
       "      <td>NP_000668</td>\n",
       "      <td>NP_001070659</td>\n",
       "      <td>355</td>\n",
       "      <td>0.20</td>\n",
       "      <td>0.37</td>\n",
       "      <td>GO:0004871(signal transducer activity);GO:0005623(cell);GO:0007165(signal transduction)</td>\n",
       "      <td></td>\n",
       "      <td>AdoR(DIOPT=5,1);</td>\n",
       "      <td>0</td>\n",
       "      <td>0</td>\n",
       "      <td>0</td>\n",
       "      <td>0.10893</td>\n",
       "      <td>0.01933</td>\n",
       "    </tr>\n",
       "    <tr>\n",
       "      <th>5</th>\n",
       "      <td>human</td>\n",
       "      <td>9606</td>\n",
       "      <td>ADORA3</td>\n",
       "      <td>1.30</td>\n",
       "      <td>1</td>\n",
       "      <td><a href='https://www.flyrnai.org/tools/paralogs/web/expression/2906299'>text show expression data</a></td>\n",
       "      <td>CD300H</td>\n",
       "      <td>NP_000668</td>\n",
       "      <td>NP_001311002</td>\n",
       "      <td>77</td>\n",
       "      <td>0.29</td>\n",
       "      <td>0.45</td>\n",
       "      <td></td>\n",
       "      <td></td>\n",
       "      <td></td>\n",
       "      <td>0</td>\n",
       "      <td>0</td>\n",
       "      <td>0</td>\n",
       "      <td>0.00000</td>\n",
       "      <td>0.00000</td>\n",
       "    </tr>\n",
       "    <tr>\n",
       "      <th>6</th>\n",
       "      <td>human</td>\n",
       "      <td>9606</td>\n",
       "      <td>ADORA3</td>\n",
       "      <td>1.23</td>\n",
       "      <td>1</td>\n",
       "      <td><a href='https://www.flyrnai.org/tools/paralogs/web/expression/2906294'>text show expression data</a></td>\n",
       "      <td>CD300LF</td>\n",
       "      <td>NP_000668</td>\n",
       "      <td>XP_016879701</td>\n",
       "      <td>100</td>\n",
       "      <td>0.25</td>\n",
       "      <td>0.39</td>\n",
       "      <td>GO:0005623(cell);GO:0007165(signal transduction)</td>\n",
       "      <td></td>\n",
       "      <td></td>\n",
       "      <td>0</td>\n",
       "      <td>0</td>\n",
       "      <td>0</td>\n",
       "      <td>0.08985</td>\n",
       "      <td>0.50067</td>\n",
       "    </tr>\n",
       "    <tr>\n",
       "      <th>7</th>\n",
       "      <td>human</td>\n",
       "      <td>9606</td>\n",
       "      <td>ADORA3</td>\n",
       "      <td>1.21</td>\n",
       "      <td>1</td>\n",
       "      <td><a href='https://www.flyrnai.org/tools/paralogs/web/expression/2906300'>text show expression data</a></td>\n",
       "      <td>CD300LD</td>\n",
       "      <td>NP_000668</td>\n",
       "      <td>NP_001108624</td>\n",
       "      <td>24</td>\n",
       "      <td>0.42</td>\n",
       "      <td>0.62</td>\n",
       "      <td>GO:0005623(cell)</td>\n",
       "      <td></td>\n",
       "      <td></td>\n",
       "      <td>0</td>\n",
       "      <td>0</td>\n",
       "      <td>0</td>\n",
       "      <td>-0.01759</td>\n",
       "      <td>0.04177</td>\n",
       "    </tr>\n",
       "    <tr>\n",
       "      <th>8</th>\n",
       "      <td>human</td>\n",
       "      <td>9606</td>\n",
       "      <td>ADORA3</td>\n",
       "      <td>1.12</td>\n",
       "      <td>1</td>\n",
       "      <td><a href='https://www.flyrnai.org/tools/paralogs/web/expression/2906295'>text show expression data</a></td>\n",
       "      <td>CD300LG</td>\n",
       "      <td>NP_000668</td>\n",
       "      <td>XP_006721784</td>\n",
       "      <td>47</td>\n",
       "      <td>0.30</td>\n",
       "      <td>0.57</td>\n",
       "      <td>GO:0005623(cell)</td>\n",
       "      <td></td>\n",
       "      <td></td>\n",
       "      <td>0</td>\n",
       "      <td>0</td>\n",
       "      <td>1</td>\n",
       "      <td>0.03582</td>\n",
       "      <td>0.10099</td>\n",
       "    </tr>\n",
       "    <tr>\n",
       "      <th>9</th>\n",
       "      <td>human</td>\n",
       "      <td>9606</td>\n",
       "      <td>ADORA3</td>\n",
       "      <td>1.09</td>\n",
       "      <td>1</td>\n",
       "      <td><a href='https://www.flyrnai.org/tools/paralogs/web/expression/2906297'>text show expression data</a></td>\n",
       "      <td>TREML1</td>\n",
       "      <td>NP_000668</td>\n",
       "      <td>XP_016866311</td>\n",
       "      <td>57</td>\n",
       "      <td>0.32</td>\n",
       "      <td>0.46</td>\n",
       "      <td>GO:0005623(cell)</td>\n",
       "      <td></td>\n",
       "      <td></td>\n",
       "      <td>0</td>\n",
       "      <td>0</td>\n",
       "      <td>0</td>\n",
       "      <td>0.09517</td>\n",
       "      <td>0.13923</td>\n",
       "    </tr>\n",
       "    <tr>\n",
       "      <th>10</th>\n",
       "      <td>human</td>\n",
       "      <td>9606</td>\n",
       "      <td>ADORA3</td>\n",
       "      <td>1.06</td>\n",
       "      <td>1</td>\n",
       "      <td><a href='https://www.flyrnai.org/tools/paralogs/web/expression/2906287'>text show expression data</a></td>\n",
       "      <td>PIGR</td>\n",
       "      <td>NP_000668</td>\n",
       "      <td>NP_002635</td>\n",
       "      <td>90</td>\n",
       "      <td>0.27</td>\n",
       "      <td>0.41</td>\n",
       "      <td>GO:0004871(signal transducer activity);GO:0005623(cell);GO:0007165(signal transduction)</td>\n",
       "      <td></td>\n",
       "      <td></td>\n",
       "      <td>0</td>\n",
       "      <td>0</td>\n",
       "      <td>1</td>\n",
       "      <td>0.03952</td>\n",
       "      <td>0.00328</td>\n",
       "    </tr>\n",
       "    <tr>\n",
       "      <th>11</th>\n",
       "      <td>human</td>\n",
       "      <td>9606</td>\n",
       "      <td>ADORA3</td>\n",
       "      <td>1.05</td>\n",
       "      <td>1</td>\n",
       "      <td><a href='https://www.flyrnai.org/tools/paralogs/web/expression/2906289'>text show expression data</a></td>\n",
       "      <td>CD300C</td>\n",
       "      <td>NP_000668</td>\n",
       "      <td>XP_016879522</td>\n",
       "      <td>66</td>\n",
       "      <td>0.23</td>\n",
       "      <td>0.39</td>\n",
       "      <td>GO:0004871(signal transducer activity);GO:0005623(cell)</td>\n",
       "      <td></td>\n",
       "      <td></td>\n",
       "      <td>1</td>\n",
       "      <td>0</td>\n",
       "      <td>0</td>\n",
       "      <td>0.15210</td>\n",
       "      <td>0.44463</td>\n",
       "    </tr>\n",
       "    <tr>\n",
       "      <th>12</th>\n",
       "      <td>human</td>\n",
       "      <td>9606</td>\n",
       "      <td>ADORA3</td>\n",
       "      <td>1.04</td>\n",
       "      <td>1</td>\n",
       "      <td><a href='https://www.flyrnai.org/tools/paralogs/web/expression/2906290'>text show expression data</a></td>\n",
       "      <td>CD300A</td>\n",
       "      <td>NP_000668</td>\n",
       "      <td>NP_009192</td>\n",
       "      <td>63</td>\n",
       "      <td>0.21</td>\n",
       "      <td>0.46</td>\n",
       "      <td>GO:0004871(signal transducer activity);GO:0005623(cell);GO:0007165(signal transduction)</td>\n",
       "      <td></td>\n",
       "      <td></td>\n",
       "      <td>0</td>\n",
       "      <td>0</td>\n",
       "      <td>4</td>\n",
       "      <td>-0.00904</td>\n",
       "      <td>0.34754</td>\n",
       "    </tr>\n",
       "    <tr>\n",
       "      <th>13</th>\n",
       "      <td>human</td>\n",
       "      <td>9606</td>\n",
       "      <td>ADORA3</td>\n",
       "      <td>1.00</td>\n",
       "      <td>1</td>\n",
       "      <td><a href='https://www.flyrnai.org/tools/paralogs/web/expression/2906288'>text show expression data</a></td>\n",
       "      <td>FCMR</td>\n",
       "      <td>NP_000668</td>\n",
       "      <td>NP_005440</td>\n",
       "      <td>31</td>\n",
       "      <td>0.29</td>\n",
       "      <td>0.55</td>\n",
       "      <td></td>\n",
       "      <td></td>\n",
       "      <td></td>\n",
       "      <td>0</td>\n",
       "      <td>0</td>\n",
       "      <td>1</td>\n",
       "      <td>-0.02826</td>\n",
       "      <td>0.03825</td>\n",
       "    </tr>\n",
       "    <tr>\n",
       "      <th>14</th>\n",
       "      <td>human</td>\n",
       "      <td>9606</td>\n",
       "      <td>ADORA3</td>\n",
       "      <td>0.99</td>\n",
       "      <td>1</td>\n",
       "      <td><a href='https://www.flyrnai.org/tools/paralogs/web/expression/2906298'>text show expression data</a></td>\n",
       "      <td>CD300E</td>\n",
       "      <td>NP_000668</td>\n",
       "      <td>XP_016880064</td>\n",
       "      <td>76</td>\n",
       "      <td>0.18</td>\n",
       "      <td>0.34</td>\n",
       "      <td>GO:0005623(cell)</td>\n",
       "      <td></td>\n",
       "      <td></td>\n",
       "      <td>0</td>\n",
       "      <td>0</td>\n",
       "      <td>0</td>\n",
       "      <td>0.02194</td>\n",
       "      <td>0.00366</td>\n",
       "    </tr>\n",
       "    <tr>\n",
       "      <th>15</th>\n",
       "      <td>human</td>\n",
       "      <td>9606</td>\n",
       "      <td>ADORA3</td>\n",
       "      <td>0.98</td>\n",
       "      <td>1</td>\n",
       "      <td><a href='https://www.flyrnai.org/tools/paralogs/web/expression/2906293'>text show expression data</a></td>\n",
       "      <td>CD300LB</td>\n",
       "      <td>NP_000668</td>\n",
       "      <td>XP_005257084</td>\n",
       "      <td>22</td>\n",
       "      <td>0.27</td>\n",
       "      <td>0.55</td>\n",
       "      <td>GO:0005623(cell)</td>\n",
       "      <td></td>\n",
       "      <td></td>\n",
       "      <td>0</td>\n",
       "      <td>0</td>\n",
       "      <td>0</td>\n",
       "      <td>0.00809</td>\n",
       "      <td>0.52850</td>\n",
       "    </tr>\n",
       "    <tr>\n",
       "      <th>16</th>\n",
       "      <td>human</td>\n",
       "      <td>9606</td>\n",
       "      <td>ADORA3</td>\n",
       "      <td>0.93</td>\n",
       "      <td>1</td>\n",
       "      <td><a href='https://www.flyrnai.org/tools/paralogs/web/expression/2906292'>text show expression data</a></td>\n",
       "      <td>FCAMR</td>\n",
       "      <td>NP_000668</td>\n",
       "      <td>NP_001164102</td>\n",
       "      <td>52</td>\n",
       "      <td>0.31</td>\n",
       "      <td>0.37</td>\n",
       "      <td>GO:0005623(cell)</td>\n",
       "      <td></td>\n",
       "      <td></td>\n",
       "      <td>0</td>\n",
       "      <td>0</td>\n",
       "      <td>0</td>\n",
       "      <td>-0.18655</td>\n",
       "      <td>0.10941</td>\n",
       "    </tr>\n",
       "    <tr>\n",
       "      <th>17</th>\n",
       "      <td>human</td>\n",
       "      <td>9606</td>\n",
       "      <td>ADORA3</td>\n",
       "      <td>0.83</td>\n",
       "      <td>1</td>\n",
       "      <td><a href='https://www.flyrnai.org/tools/paralogs/web/expression/2906291'>text show expression data</a></td>\n",
       "      <td>TREM2</td>\n",
       "      <td>NP_000668</td>\n",
       "      <td>NP_061838</td>\n",
       "      <td>43</td>\n",
       "      <td>0.23</td>\n",
       "      <td>0.30</td>\n",
       "      <td>GO:0005623(cell);GO:0007165(signal transduction)</td>\n",
       "      <td></td>\n",
       "      <td></td>\n",
       "      <td>0</td>\n",
       "      <td>0</td>\n",
       "      <td>4</td>\n",
       "      <td>0.79346</td>\n",
       "      <td>0.15894</td>\n",
       "    </tr>\n",
       "    <tr>\n",
       "      <th>18</th>\n",
       "      <td>mouse</td>\n",
       "      <td>10090</td>\n",
       "      <td>Adora3</td>\n",
       "      <td>3.22</td>\n",
       "      <td>3</td>\n",
       "      <td><a href='https://www.flyrnai.org/tools/paralogs/web/expression/3340597'>text show expression data</a></td>\n",
       "      <td>Adora1</td>\n",
       "      <td>NP_033761</td>\n",
       "      <td>NP_001008533</td>\n",
       "      <td>310</td>\n",
       "      <td>0.47</td>\n",
       "      <td>0.69</td>\n",
       "      <td>GO:0002376(immune system process);GO:0004871(signal transducer activity);GO:0006810(transport);GO:0006950(response to stress);GO:0040011(locomotion);GO:0005623(cell);GO:0005886(plasma membrane);GO:0007165(signal transduction);GO:0007267(cell-cell signaling);GO:0048870(cell motility)</td>\n",
       "      <td></td>\n",
       "      <td>AdoR(DIOPT=5,7);</td>\n",
       "      <td>0</td>\n",
       "      <td>0</td>\n",
       "      <td>None</td>\n",
       "      <td>None</td>\n",
       "      <td>None</td>\n",
       "    </tr>\n",
       "    <tr>\n",
       "      <th>19</th>\n",
       "      <td>mouse</td>\n",
       "      <td>10090</td>\n",
       "      <td>Adora3</td>\n",
       "      <td>3.10</td>\n",
       "      <td>4</td>\n",
       "      <td><a href='https://www.flyrnai.org/tools/paralogs/web/expression/3340599'>text show expression data</a></td>\n",
       "      <td>Adora2b</td>\n",
       "      <td>NP_033761</td>\n",
       "      <td>NP_031439</td>\n",
       "      <td>304</td>\n",
       "      <td>0.40</td>\n",
       "      <td>0.60</td>\n",
       "      <td>GO:0004871(signal transducer activity);GO:0006810(transport);GO:0006950(response to stress);GO:0005623(cell);GO:0007165(signal transduction);GO:0016192(vesicle-mediated transport);GO:0002376(immune system process)</td>\n",
       "      <td></td>\n",
       "      <td>mAChR-C(DIOPT=1,1);AdoR(DIOPT=5,8);</td>\n",
       "      <td>0</td>\n",
       "      <td>0</td>\n",
       "      <td>None</td>\n",
       "      <td>None</td>\n",
       "      <td>None</td>\n",
       "    </tr>\n",
       "    <tr>\n",
       "      <th>20</th>\n",
       "      <td>mouse</td>\n",
       "      <td>10090</td>\n",
       "      <td>Adora3</td>\n",
       "      <td>2.95</td>\n",
       "      <td>4</td>\n",
       "      <td><a href='https://www.flyrnai.org/tools/paralogs/web/expression/3340598'>text show expression data</a></td>\n",
       "      <td>Adora2a</td>\n",
       "      <td>NP_033761</td>\n",
       "      <td>NP_001318024</td>\n",
       "      <td>297</td>\n",
       "      <td>0.43</td>\n",
       "      <td>0.64</td>\n",
       "      <td>GO:0004871(signal transducer activity);GO:0006810(transport);GO:0006950(response to stress);GO:0040011(locomotion);GO:0005623(cell);GO:0005886(plasma membrane);GO:0007165(signal transduction);GO:0007267(cell-cell signaling);GO:0002376(immune system process)</td>\n",
       "      <td></td>\n",
       "      <td>AdoR(DIOPT=5,9);mAChR-C(DIOPT=1,1);</td>\n",
       "      <td>0</td>\n",
       "      <td>0</td>\n",
       "      <td>None</td>\n",
       "      <td>None</td>\n",
       "      <td>None</td>\n",
       "    </tr>\n",
       "    <tr>\n",
       "      <th>21</th>\n",
       "      <td>mouse</td>\n",
       "      <td>10090</td>\n",
       "      <td>Adora3</td>\n",
       "      <td>2.32</td>\n",
       "      <td>1</td>\n",
       "      <td><a href='https://www.flyrnai.org/tools/paralogs/web/expression/3340611'>text show expression data</a></td>\n",
       "      <td>Gpbar1</td>\n",
       "      <td>NP_033761</td>\n",
       "      <td>NP_778150</td>\n",
       "      <td>316</td>\n",
       "      <td>0.22</td>\n",
       "      <td>0.38</td>\n",
       "      <td>GO:0004871(signal transducer activity);GO:0005623(cell);GO:0007165(signal transduction)</td>\n",
       "      <td></td>\n",
       "      <td>AdoR(DIOPT=5,1);</td>\n",
       "      <td>0</td>\n",
       "      <td>0</td>\n",
       "      <td>None</td>\n",
       "      <td>None</td>\n",
       "      <td>None</td>\n",
       "    </tr>\n",
       "    <tr>\n",
       "      <th>22</th>\n",
       "      <td>mouse</td>\n",
       "      <td>10090</td>\n",
       "      <td>Adora3</td>\n",
       "      <td>1.84</td>\n",
       "      <td>1</td>\n",
       "      <td><a href='https://www.flyrnai.org/tools/paralogs/web/expression/3340613'>text show expression data</a></td>\n",
       "      <td>Cd300ld3</td>\n",
       "      <td>NP_033761</td>\n",
       "      <td>NP_954671</td>\n",
       "      <td>203</td>\n",
       "      <td>0.21</td>\n",
       "      <td>0.33</td>\n",
       "      <td>GO:0006950(response to stress);GO:0005623(cell);GO:0002376(immune system process);GO:0007165(signal transduction)</td>\n",
       "      <td></td>\n",
       "      <td></td>\n",
       "      <td>0</td>\n",
       "      <td>0</td>\n",
       "      <td>None</td>\n",
       "      <td>None</td>\n",
       "      <td>None</td>\n",
       "    </tr>\n",
       "    <tr>\n",
       "      <th>23</th>\n",
       "      <td>mouse</td>\n",
       "      <td>10090</td>\n",
       "      <td>Adora3</td>\n",
       "      <td>1.84</td>\n",
       "      <td>1</td>\n",
       "      <td><a href='https://www.flyrnai.org/tools/paralogs/web/expression/3340616'>text show expression data</a></td>\n",
       "      <td>Cd300ld5</td>\n",
       "      <td>NP_033761</td>\n",
       "      <td>NP_001095127</td>\n",
       "      <td>203</td>\n",
       "      <td>0.21</td>\n",
       "      <td>0.33</td>\n",
       "      <td></td>\n",
       "      <td></td>\n",
       "      <td></td>\n",
       "      <td>0</td>\n",
       "      <td>0</td>\n",
       "      <td>None</td>\n",
       "      <td>None</td>\n",
       "      <td>None</td>\n",
       "    </tr>\n",
       "    <tr>\n",
       "      <th>24</th>\n",
       "      <td>mouse</td>\n",
       "      <td>10090</td>\n",
       "      <td>Adora3</td>\n",
       "      <td>1.58</td>\n",
       "      <td>1</td>\n",
       "      <td><a href='https://www.flyrnai.org/tools/paralogs/web/expression/3340606'>text show expression data</a></td>\n",
       "      <td>Cd300c2</td>\n",
       "      <td>NP_033761</td>\n",
       "      <td>NP_598919</td>\n",
       "      <td>146</td>\n",
       "      <td>0.21</td>\n",
       "      <td>0.38</td>\n",
       "      <td>GO:0005623(cell);GO:0006810(transport)</td>\n",
       "      <td></td>\n",
       "      <td></td>\n",
       "      <td>0</td>\n",
       "      <td>0</td>\n",
       "      <td>None</td>\n",
       "      <td>None</td>\n",
       "      <td>None</td>\n",
       "    </tr>\n",
       "    <tr>\n",
       "      <th>25</th>\n",
       "      <td>mouse</td>\n",
       "      <td>10090</td>\n",
       "      <td>Adora3</td>\n",
       "      <td>1.54</td>\n",
       "      <td>1</td>\n",
       "      <td><a href='https://www.flyrnai.org/tools/paralogs/web/expression/3340609'>text show expression data</a></td>\n",
       "      <td>Cd300ld</td>\n",
       "      <td>NP_033761</td>\n",
       "      <td>NP_663412</td>\n",
       "      <td>145</td>\n",
       "      <td>0.20</td>\n",
       "      <td>0.33</td>\n",
       "      <td>GO:0005623(cell)</td>\n",
       "      <td></td>\n",
       "      <td></td>\n",
       "      <td>0</td>\n",
       "      <td>0</td>\n",
       "      <td>None</td>\n",
       "      <td>None</td>\n",
       "      <td>None</td>\n",
       "    </tr>\n",
       "    <tr>\n",
       "      <th>26</th>\n",
       "      <td>mouse</td>\n",
       "      <td>10090</td>\n",
       "      <td>Adora3</td>\n",
       "      <td>1.54</td>\n",
       "      <td>1</td>\n",
       "      <td><a href='https://www.flyrnai.org/tools/paralogs/web/expression/3340615'>text show expression data</a></td>\n",
       "      <td>Cd300ld4</td>\n",
       "      <td>NP_033761</td>\n",
       "      <td>XP_017169686</td>\n",
       "      <td>134</td>\n",
       "      <td>0.25</td>\n",
       "      <td>0.39</td>\n",
       "      <td></td>\n",
       "      <td></td>\n",
       "      <td></td>\n",
       "      <td>0</td>\n",
       "      <td>0</td>\n",
       "      <td>None</td>\n",
       "      <td>None</td>\n",
       "      <td>None</td>\n",
       "    </tr>\n",
       "    <tr>\n",
       "      <th>27</th>\n",
       "      <td>mouse</td>\n",
       "      <td>10090</td>\n",
       "      <td>Adora3</td>\n",
       "      <td>1.21</td>\n",
       "      <td>1</td>\n",
       "      <td><a href='https://www.flyrnai.org/tools/paralogs/web/expression/3340614'>text show expression data</a></td>\n",
       "      <td>Cd300c</td>\n",
       "      <td>NP_033761</td>\n",
       "      <td>NP_001355168</td>\n",
       "      <td>74</td>\n",
       "      <td>0.22</td>\n",
       "      <td>0.43</td>\n",
       "      <td>GO:0005623(cell)</td>\n",
       "      <td></td>\n",
       "      <td></td>\n",
       "      <td>0</td>\n",
       "      <td>0</td>\n",
       "      <td>None</td>\n",
       "      <td>None</td>\n",
       "      <td>None</td>\n",
       "    </tr>\n",
       "    <tr>\n",
       "      <th>28</th>\n",
       "      <td>mouse</td>\n",
       "      <td>10090</td>\n",
       "      <td>Adora3</td>\n",
       "      <td>1.19</td>\n",
       "      <td>1</td>\n",
       "      <td><a href='https://www.flyrnai.org/tools/paralogs/web/expression/3340610'>text show expression data</a></td>\n",
       "      <td>Cd300e</td>\n",
       "      <td>NP_033761</td>\n",
       "      <td>NP_742047</td>\n",
       "      <td>26</td>\n",
       "      <td>0.42</td>\n",
       "      <td>0.58</td>\n",
       "      <td>GO:0005623(cell)</td>\n",
       "      <td></td>\n",
       "      <td></td>\n",
       "      <td>0</td>\n",
       "      <td>0</td>\n",
       "      <td>None</td>\n",
       "      <td>None</td>\n",
       "      <td>None</td>\n",
       "    </tr>\n",
       "    <tr>\n",
       "      <th>29</th>\n",
       "      <td>mouse</td>\n",
       "      <td>10090</td>\n",
       "      <td>Adora3</td>\n",
       "      <td>1.18</td>\n",
       "      <td>1</td>\n",
       "      <td><a href='https://www.flyrnai.org/tools/paralogs/web/expression/3340607'>text show expression data</a></td>\n",
       "      <td>Cd300a</td>\n",
       "      <td>NP_033761</td>\n",
       "      <td>NP_001346741</td>\n",
       "      <td>118</td>\n",
       "      <td>0.22</td>\n",
       "      <td>0.36</td>\n",
       "      <td>GO:0002376(immune system process);GO:0004871(signal transducer activity);GO:0006810(transport);GO:0006950(response to stress);GO:0040011(locomotion);GO:0005623(cell);GO:0007165(signal transduction);GO:0016192(vesicle-mediated transport);GO:0048870(cell motility)</td>\n",
       "      <td></td>\n",
       "      <td></td>\n",
       "      <td>0</td>\n",
       "      <td>0</td>\n",
       "      <td>None</td>\n",
       "      <td>None</td>\n",
       "      <td>None</td>\n",
       "    </tr>\n",
       "    <tr>\n",
       "      <th>30</th>\n",
       "      <td>mouse</td>\n",
       "      <td>10090</td>\n",
       "      <td>Adora3</td>\n",
       "      <td>1.13</td>\n",
       "      <td>1</td>\n",
       "      <td><a href='https://www.flyrnai.org/tools/paralogs/web/expression/3340602'>text show expression data</a></td>\n",
       "      <td>Fcamr</td>\n",
       "      <td>NP_033761</td>\n",
       "      <td>NP_001164103</td>\n",
       "      <td>71</td>\n",
       "      <td>0.30</td>\n",
       "      <td>0.49</td>\n",
       "      <td>GO:0004871(signal transducer activity);GO:0005623(cell);GO:0002376(immune system process)</td>\n",
       "      <td></td>\n",
       "      <td></td>\n",
       "      <td>0</td>\n",
       "      <td>0</td>\n",
       "      <td>None</td>\n",
       "      <td>None</td>\n",
       "      <td>None</td>\n",
       "    </tr>\n",
       "    <tr>\n",
       "      <th>31</th>\n",
       "      <td>mouse</td>\n",
       "      <td>10090</td>\n",
       "      <td>Adora3</td>\n",
       "      <td>1.13</td>\n",
       "      <td>1</td>\n",
       "      <td><a href='https://www.flyrnai.org/tools/paralogs/web/expression/3340605'>text show expression data</a></td>\n",
       "      <td>Trem2</td>\n",
       "      <td>NP_033761</td>\n",
       "      <td>NP_001259007</td>\n",
       "      <td>94</td>\n",
       "      <td>0.19</td>\n",
       "      <td>0.34</td>\n",
       "      <td>GO:0004871(signal transducer activity);GO:0006810(transport);GO:0006950(response to stress);GO:0005623(cell);GO:0007165(signal transduction);GO:0016192(vesicle-mediated transport);GO:0002376(immune system process)</td>\n",
       "      <td></td>\n",
       "      <td></td>\n",
       "      <td>0</td>\n",
       "      <td>0</td>\n",
       "      <td>None</td>\n",
       "      <td>None</td>\n",
       "      <td>None</td>\n",
       "    </tr>\n",
       "    <tr>\n",
       "      <th>32</th>\n",
       "      <td>mouse</td>\n",
       "      <td>10090</td>\n",
       "      <td>Adora3</td>\n",
       "      <td>1.08</td>\n",
       "      <td>1</td>\n",
       "      <td><a href='https://www.flyrnai.org/tools/paralogs/web/expression/3340608'>text show expression data</a></td>\n",
       "      <td>Cd300lb</td>\n",
       "      <td>NP_033761</td>\n",
       "      <td>NP_954691</td>\n",
       "      <td>55</td>\n",
       "      <td>0.22</td>\n",
       "      <td>0.42</td>\n",
       "      <td>GO:0005623(cell);GO:0002376(immune system process)</td>\n",
       "      <td></td>\n",
       "      <td></td>\n",
       "      <td>0</td>\n",
       "      <td>0</td>\n",
       "      <td>None</td>\n",
       "      <td>None</td>\n",
       "      <td>None</td>\n",
       "    </tr>\n",
       "    <tr>\n",
       "      <th>33</th>\n",
       "      <td>mouse</td>\n",
       "      <td>10090</td>\n",
       "      <td>Adora3</td>\n",
       "      <td>1.06</td>\n",
       "      <td>1</td>\n",
       "      <td><a href='https://www.flyrnai.org/tools/paralogs/web/expression/3340612'>text show expression data</a></td>\n",
       "      <td>Cd300lf</td>\n",
       "      <td>NP_033761</td>\n",
       "      <td>NP_001162624</td>\n",
       "      <td>65</td>\n",
       "      <td>0.29</td>\n",
       "      <td>0.38</td>\n",
       "      <td>GO:0005623(cell);GO:0002376(immune system process);GO:0007165(signal transduction)</td>\n",
       "      <td></td>\n",
       "      <td></td>\n",
       "      <td>0</td>\n",
       "      <td>0</td>\n",
       "      <td>None</td>\n",
       "      <td>None</td>\n",
       "      <td>None</td>\n",
       "    </tr>\n",
       "    <tr>\n",
       "      <th>34</th>\n",
       "      <td>mouse</td>\n",
       "      <td>10090</td>\n",
       "      <td>Adora3</td>\n",
       "      <td>1.03</td>\n",
       "      <td>1</td>\n",
       "      <td><a href='https://www.flyrnai.org/tools/paralogs/web/expression/3340603'>text show expression data</a></td>\n",
       "      <td>Fcmr</td>\n",
       "      <td>NP_033761</td>\n",
       "      <td>NP_081252</td>\n",
       "      <td>58</td>\n",
       "      <td>0.29</td>\n",
       "      <td>0.43</td>\n",
       "      <td>GO:0005623(cell);GO:0005886(plasma membrane);GO:0007165(signal transduction)</td>\n",
       "      <td></td>\n",
       "      <td></td>\n",
       "      <td>0</td>\n",
       "      <td>0</td>\n",
       "      <td>None</td>\n",
       "      <td>None</td>\n",
       "      <td>None</td>\n",
       "    </tr>\n",
       "    <tr>\n",
       "      <th>35</th>\n",
       "      <td>mouse</td>\n",
       "      <td>10090</td>\n",
       "      <td>Adora3</td>\n",
       "      <td>1.00</td>\n",
       "      <td>1</td>\n",
       "      <td><a href='https://www.flyrnai.org/tools/paralogs/web/expression/3340601'>text show expression data</a></td>\n",
       "      <td>Cd300lg</td>\n",
       "      <td>NP_033761</td>\n",
       "      <td>NP_001154183</td>\n",
       "      <td>35</td>\n",
       "      <td>0.34</td>\n",
       "      <td>0.49</td>\n",
       "      <td>GO:0016192(vesicle-mediated transport);GO:0005623(cell);GO:0006810(transport);GO:0005886(plasma membrane)</td>\n",
       "      <td></td>\n",
       "      <td></td>\n",
       "      <td>0</td>\n",
       "      <td>0</td>\n",
       "      <td>None</td>\n",
       "      <td>None</td>\n",
       "      <td>None</td>\n",
       "    </tr>\n",
       "    <tr>\n",
       "      <th>36</th>\n",
       "      <td>mouse</td>\n",
       "      <td>10090</td>\n",
       "      <td>Adora3</td>\n",
       "      <td>0.97</td>\n",
       "      <td>1</td>\n",
       "      <td><a href='https://www.flyrnai.org/tools/paralogs/web/expression/3340600'>text show expression data</a></td>\n",
       "      <td>Pigr</td>\n",
       "      <td>NP_033761</td>\n",
       "      <td>NP_035212</td>\n",
       "      <td>43</td>\n",
       "      <td>0.23</td>\n",
       "      <td>0.56</td>\n",
       "      <td>GO:0004871(signal transducer activity);GO:0006810(transport);GO:0005623(cell);GO:0007165(signal transduction);GO:0016192(vesicle-mediated transport);GO:0002376(immune system process)</td>\n",
       "      <td></td>\n",
       "      <td></td>\n",
       "      <td>0</td>\n",
       "      <td>0</td>\n",
       "      <td>None</td>\n",
       "      <td>None</td>\n",
       "      <td>None</td>\n",
       "    </tr>\n",
       "    <tr>\n",
       "      <th>37</th>\n",
       "      <td>mouse</td>\n",
       "      <td>10090</td>\n",
       "      <td>Adora3</td>\n",
       "      <td>0.96</td>\n",
       "      <td>1</td>\n",
       "      <td><a href='https://www.flyrnai.org/tools/paralogs/web/expression/3340604'>text show expression data</a></td>\n",
       "      <td>Treml1</td>\n",
       "      <td>NP_033761</td>\n",
       "      <td>NP_082039</td>\n",
       "      <td>28</td>\n",
       "      <td>0.29</td>\n",
       "      <td>0.50</td>\n",
       "      <td>GO:0006950(response to stress);GO:0005623(cell);GO:0007165(signal transduction)</td>\n",
       "      <td></td>\n",
       "      <td></td>\n",
       "      <td>0</td>\n",
       "      <td>0</td>\n",
       "      <td>None</td>\n",
       "      <td>None</td>\n",
       "      <td>None</td>\n",
       "    </tr>\n",
       "  </tbody>\n",
       "</table>"
      ],
      "text/plain": [
       "<IPython.core.display.HTML object>"
      ]
     },
     "metadata": {},
     "output_type": "display_data"
    }
   ],
   "source": [
    "response = analyzer.get_paralogs()\n",
    "display_paralogs(response)"
   ]
  },
  {
   "cell_type": "markdown",
   "id": "2614d19b",
   "metadata": {},
   "source": [
    "## Differential RNA/Protein Expressions"
   ]
  },
  {
   "cell_type": "markdown",
   "id": "9e224354",
   "metadata": {},
   "source": [
    "##### This section provides the RNA and protein baseline expression for given target. Identify genes, proteins, metabolites, or imaging features that are significantly altered in the disease state. A target is considered to be tissue specific if the z-score is greater than 0.674 (or the 75th percentile of a perfect normal distribution)."
   ]
  },
  {
   "cell_type": "code",
   "execution_count": 78,
   "id": "c6870c49",
   "metadata": {},
   "outputs": [
    {
     "name": "stdout",
     "output_type": "stream",
     "text": [
      "Using Ensembl ID: ENSG00000282608\n"
     ]
    },
    {
     "data": {
      "application/vnd.jupyter.widget-view+json": {
       "model_id": "19f51c2e6ee342a09ee13840aaa7d7c6",
       "version_major": 2,
       "version_minor": 0
      },
      "text/plain": [
       "Dropdown(description='Organ:', options=('All', 'bladder organ', 'blood', 'brain', 'breast', 'colon', 'connecti…"
      ]
     },
     "metadata": {},
     "output_type": "display_data"
    },
    {
     "data": {
      "application/vnd.jupyter.widget-view+json": {
       "model_id": "01645c176131464dbb808c7cde46c958",
       "version_major": 2,
       "version_minor": 0
      },
      "text/plain": [
       "Output()"
      ]
     },
     "metadata": {},
     "output_type": "display_data"
    }
   ],
   "source": [
    "response = analyzer.get_differential_rna_and_protein_expression()\n",
    "df = prepare_data(response['data']['target']['expressions'])\n",
    "setup_interactive_plot(df)"
   ]
  },
  {
   "cell_type": "markdown",
   "id": "1c0db198",
   "metadata": {},
   "source": [
    "## Protein structure, sequence, domain organization and mutation(s)"
   ]
  },
  {
   "cell_type": "markdown",
   "id": "2ec3e20d",
   "metadata": {},
   "source": [
    "##### Protein structural information serves as the cornerstone for comprehending a target protein’s behavior, interactions, and therapeutic potential in drug development."
   ]
  },
  {
   "cell_type": "code",
   "execution_count": 74,
   "id": "db97e921",
   "metadata": {},
   "outputs": [
    {
     "data": {
      "text/html": [
       "\n",
       "        <iframe\n",
       "            width=\"1000\"\n",
       "            height=\"600\"\n",
       "            src=\"protvista_viewer1.html\"\n",
       "            frameborder=\"0\"\n",
       "            allowfullscreen\n",
       "            \n",
       "        ></iframe>\n",
       "        "
      ],
      "text/plain": [
       "<IPython.lib.display.IFrame at 0x7f59d8c20d60>"
      ]
     },
     "metadata": {},
     "output_type": "display_data"
    }
   ],
   "source": [
    "display_feature_viewer(analyzer.uniprot_id)"
   ]
  },
  {
   "cell_type": "markdown",
   "id": "e32171c5",
   "metadata": {},
   "source": [
    "## Subcellular section"
   ]
  },
  {
   "cell_type": "markdown",
   "id": "1691135d",
   "metadata": {},
   "source": [
    "##### This section describes the location and the topology of the mature protein in the cell. It also highlights each non-membrane and membrane-spanning region of a protein.<br>It provides insights into tailored drug design for treating diseases. <br> The Description section redirects to the sequence analysis."
   ]
  },
  {
   "cell_type": "code",
   "execution_count": 75,
   "id": "574f0aae",
   "metadata": {},
   "outputs": [
    {
     "data": {
      "application/vnd.jupyter.widget-view+json": {
       "model_id": "d7980b7e83494492b22482fe06fc20b7",
       "version_major": 2,
       "version_minor": 0
      },
      "text/plain": [
       "Dropdown(description='TYPE:', options=('All', 'Topological domain', 'Transmembrane'), style=DescriptionStyle(d…"
      ]
     },
     "metadata": {},
     "output_type": "display_data"
    },
    {
     "data": {
      "application/vnd.jupyter.widget-view+json": {
       "model_id": "e9d72ff6908a4c5788719530508f2582",
       "version_major": 2,
       "version_minor": 0
      },
      "text/plain": [
       "Output()"
      ]
     },
     "metadata": {},
     "output_type": "display_data"
    },
    {
     "data": {
      "text/html": [
       "\n",
       "    <style>\n",
       "    .table {\n",
       "        font-size: 18px;\n",
       "        text-align: center;\n",
       "    }\n",
       "    .table th, .table td {\n",
       "        text-align: center;\n",
       "        vertical-align: middle;\n",
       "    }\n",
       "    </style>\n",
       "    "
      ],
      "text/plain": [
       "<IPython.core.display.HTML object>"
      ]
     },
     "metadata": {},
     "output_type": "display_data"
    }
   ],
   "source": [
    "api_response = analyzer.get_target_topology_features()\n",
    "display_topology_table(api_response)"
   ]
  },
  {
   "cell_type": "markdown",
   "id": "99196238",
   "metadata": {},
   "source": [
    "## Known Drugs"
   ]
  },
  {
   "cell_type": "markdown",
   "id": "e554e880",
   "metadata": {},
   "source": [
    "#### Clinical precedence for drugs with investigational or approved indications targeting the gene according to their curated mechanism of action."
   ]
  },
  {
   "cell_type": "code",
   "execution_count": 76,
   "id": "207fb3aa",
   "metadata": {
    "scrolled": false
   },
   "outputs": [
    {
     "name": "stdout",
     "output_type": "stream",
     "text": [
      "Using Ensembl ID: ENSG00000282608\n"
     ]
    },
    {
     "data": {
      "application/vnd.jupyter.widget-view+json": {
       "model_id": "bb73e58f21b94bb5b0dd962add695630",
       "version_major": 2,
       "version_minor": 0
      },
      "text/plain": [
       "HBox(children=(Dropdown(description='Drug:', options=('All', 'ADENOSINE', 'AMINOPHYLLINE', 'CAFFEINE', 'CAFFEI…"
      ]
     },
     "metadata": {},
     "output_type": "display_data"
    },
    {
     "data": {
      "application/vnd.jupyter.widget-view+json": {
       "model_id": "e968875a83c246babd0971e982a8b554",
       "version_major": 2,
       "version_minor": 0
      },
      "text/plain": [
       "Output()"
      ]
     },
     "metadata": {},
     "output_type": "display_data"
    }
   ],
   "source": [
    "response = analyzer.get_known_drugs()\n",
    "process_and_display_knowndrugs(response)"
   ]
  },
  {
   "cell_type": "markdown",
   "id": "1f425f06",
   "metadata": {},
   "source": [
    "## Safety"
   ]
  },
  {
   "cell_type": "markdown",
   "id": "03cd0465",
   "metadata": {},
   "source": [
    "#### Reported safety effects and risk information"
   ]
  },
  {
   "cell_type": "code",
   "execution_count": 77,
   "id": "9f33f5ce",
   "metadata": {
    "scrolled": true
   },
   "outputs": [
    {
     "name": "stdout",
     "output_type": "stream",
     "text": [
      "Using Ensembl ID: ENSG00000282608\n"
     ]
    },
    {
     "data": {
      "text/html": [
       "<table border=\"1\" class=\"dataframe\">\n",
       "  <thead>\n",
       "    <tr style=\"text-align: right;\">\n",
       "      <th>Safety event</th>\n",
       "      <th>Biosystems</th>\n",
       "      <th>Dosing effect</th>\n",
       "      <th>Experimental Studies</th>\n",
       "      <th>Source</th>\n",
       "    </tr>\n",
       "  </thead>\n",
       "  <tbody>\n",
       "    <tr>\n",
       "      <td><a href=\"https://platform.opentargets.org/disease/EFO_0005251\" style=\"font-size: 12px;\">hypotension</a></td>\n",
       "      <td><a href=\"https://identifiers.org/UBERON:0004535\">cardiovascular system</a>, <a href=\"https://identifiers.org/UBERON:0002405\">immune</a></td>\n",
       "      <td><b>Direction:</b> Activation/Increase/Upregulation<br><b>Dosing:</b> general</td>\n",
       "      <td>N/A</td>\n",
       "      <td><a href=\"https://doi.org/10.1002/9781118098141.ch2\" style=\"font-size: 14px;\">Urban et al. (2012)</a></td>\n",
       "    </tr>\n",
       "    <tr>\n",
       "      <td>proischemic (cerebral)</td>\n",
       "      <td><a href=\"https://identifiers.org/UBERON:0004535\">cardiovascular system</a>, <a href=\"https://identifiers.org/UBERON:0002405\">immune</a></td>\n",
       "      <td><b>Direction:</b> Activation/Increase/Upregulation<br><b>Dosing:</b> general</td>\n",
       "      <td>N/A</td>\n",
       "      <td><a href=\"https://doi.org/10.1002/9781118098141.ch2\" style=\"font-size: 14px;\">Urban et al. (2012)</a></td>\n",
       "    </tr>\n",
       "    <tr>\n",
       "      <td><a href=\"https://platform.opentargets.org/disease/GO_0040013\" style=\"font-size: 12px;\">decreased locomotor activity</a></td>\n",
       "      <td><a href=\"https://identifiers.org/UBERON:0001016\">nervous system</a>, <a href=\"https://identifiers.org/UBERON:0001004\">respiratory</a></td>\n",
       "      <td><b>Direction:</b> Activation/Increase/Upregulation<br><b>Dosing:</b> acute</td>\n",
       "      <td>N/A</td>\n",
       "      <td><a href=\"https://europepmc.org/abstract/med/28216264\" style=\"font-size: 14px;\">Lynch et al. (2017)</a></td>\n",
       "    </tr>\n",
       "    <tr>\n",
       "      <td><a href=\"https://platform.opentargets.org/disease/GO_0008283\" style=\"font-size: 12px;\">cell proliferation</a></td>\n",
       "      <td><a href=\"https://identifiers.org/UBERON:0004535\">cardiovascular system</a>, <a href=\"https://identifiers.org/UBERON:0002405\">immune</a></td>\n",
       "      <td><b>Direction:</b> Activation/Increase/Upregulation<br><b>Dosing:</b> general</td>\n",
       "      <td>N/A</td>\n",
       "      <td><a href=\"https://doi.org/10.1002/9781118098141.ch2\" style=\"font-size: 14px;\">Urban et al. (2012)</a></td>\n",
       "    </tr>\n",
       "    <tr>\n",
       "      <td>antiischaemic (cardioprotective)</td>\n",
       "      <td><a href=\"https://identifiers.org/UBERON:0004535\">cardiovascular system</a>, <a href=\"https://identifiers.org/UBERON:0002405\">immune</a></td>\n",
       "      <td><b>Direction:</b> Activation/Increase/Upregulation<br><b>Dosing:</b> general</td>\n",
       "      <td>N/A</td>\n",
       "      <td><a href=\"https://doi.org/10.1002/9781118098141.ch2\" style=\"font-size: 14px;\">Urban et al. (2012)</a></td>\n",
       "    </tr>\n",
       "    <tr>\n",
       "      <td><a href=\"https://platform.opentargets.org/disease/EFO_0000537\" style=\"font-size: 12px;\">hypertension (inferred by author)</a></td>\n",
       "      <td><a href=\"https://identifiers.org/UBERON:0004535\">cardiovascular system</a>, <a href=\"https://identifiers.org/UBERON:0002405\">immune</a></td>\n",
       "      <td><b>Direction:</b> Inhibition/Decrease/Downregulation<br><b>Dosing:</b> general</td>\n",
       "      <td>N/A</td>\n",
       "      <td><a href=\"https://doi.org/10.1002/9781118098141.ch2\" style=\"font-size: 14px;\">Urban et al. (2012)</a></td>\n",
       "    </tr>\n",
       "    <tr>\n",
       "      <td>interference with the regulation of cell growth (inferred by author)</td>\n",
       "      <td><a href=\"https://identifiers.org/UBERON:0004535\">cardiovascular system</a>, <a href=\"https://identifiers.org/UBERON:0002405\">immune</a></td>\n",
       "      <td><b>Direction:</b> Inhibition/Decrease/Downregulation<br><b>Dosing:</b> general</td>\n",
       "      <td>N/A</td>\n",
       "      <td><a href=\"https://doi.org/10.1002/9781118098141.ch2\" style=\"font-size: 14px;\">Urban et al. (2012)</a></td>\n",
       "    </tr>\n",
       "    <tr>\n",
       "      <td><a href=\"https://platform.opentargets.org/disease/EFO_0009426\" style=\"font-size: 12px;\">cell necrosis</a></td>\n",
       "      <td><a href=\"https://identifiers.org/UBERON:0004535\">cardiovascular system</a>, <a href=\"https://identifiers.org/UBERON:0002405\">immune</a></td>\n",
       "      <td><b>Direction:</b> Activation/Increase/Upregulation<br><b>Dosing:</b> general</td>\n",
       "      <td>N/A</td>\n",
       "      <td><a href=\"https://doi.org/10.1002/9781118098141.ch2\" style=\"font-size: 14px;\">Urban et al. (2012)</a></td>\n",
       "    </tr>\n",
       "    <tr>\n",
       "      <td><a href=\"https://platform.opentargets.org/disease/GO_1904057\" style=\"font-size: 12px;\">decreased pain</a></td>\n",
       "      <td><a href=\"https://identifiers.org/UBERON:0001016\">nervous system</a>, <a href=\"https://identifiers.org/UBERON:0001004\">respiratory</a></td>\n",
       "      <td><b>Direction:</b> Activation/Increase/Upregulation<br><b>Dosing:</b> acute</td>\n",
       "      <td>N/A</td>\n",
       "      <td><a href=\"https://europepmc.org/abstract/med/28216264\" style=\"font-size: 14px;\">Lynch et al. (2017)</a></td>\n",
       "    </tr>\n",
       "    <tr>\n",
       "      <td><a href=\"https://platform.opentargets.org/disease/EFO_0009853\" style=\"font-size: 12px;\">decreased convulsions</a></td>\n",
       "      <td><a href=\"https://identifiers.org/UBERON:0001016\">nervous system</a>, <a href=\"https://identifiers.org/UBERON:0001004\">respiratory</a></td>\n",
       "      <td><b>Direction:</b> Activation/Increase/Upregulation<br><b>Dosing:</b> acute</td>\n",
       "      <td>N/A</td>\n",
       "      <td><a href=\"https://europepmc.org/abstract/med/28216264\" style=\"font-size: 14px;\">Lynch et al. (2017)</a></td>\n",
       "    </tr>\n",
       "    <tr>\n",
       "      <td><a href=\"https://platform.opentargets.org/disease/GO_0050777\" style=\"font-size: 12px;\">immunosuppression</a></td>\n",
       "      <td><a href=\"https://identifiers.org/UBERON:0004535\">cardiovascular system</a>, <a href=\"https://identifiers.org/UBERON:0002405\">immune</a></td>\n",
       "      <td><b>Direction:</b> Activation/Increase/Upregulation<br><b>Dosing:</b> general</td>\n",
       "      <td>N/A</td>\n",
       "      <td><a href=\"https://doi.org/10.1002/9781118098141.ch2\" style=\"font-size: 14px;\">Urban et al. (2012)</a></td>\n",
       "    </tr>\n",
       "    <tr>\n",
       "      <td><a href=\"https://platform.opentargets.org/disease/EFO_0009836\" style=\"font-size: 12px;\">increased bronchoconstriction</a></td>\n",
       "      <td><a href=\"https://identifiers.org/UBERON:0001016\">nervous system</a>, <a href=\"https://identifiers.org/UBERON:0001004\">respiratory</a></td>\n",
       "      <td><b>Direction:</b> Activation/Increase/Upregulation<br><b>Dosing:</b> acute</td>\n",
       "      <td>N/A</td>\n",
       "      <td><a href=\"https://europepmc.org/abstract/med/28216264\" style=\"font-size: 14px;\">Lynch et al. (2017)</a></td>\n",
       "    </tr>\n",
       "    <tr>\n",
       "      <td><a href=\"https://platform.opentargets.org/disease/EFO_1001375\" style=\"font-size: 12px;\">myocardial ischemia (inferred by author)</a></td>\n",
       "      <td><a href=\"https://identifiers.org/UBERON:0004535\">cardiovascular system</a>, <a href=\"https://identifiers.org/UBERON:0002405\">immune</a></td>\n",
       "      <td><b>Direction:</b> Inhibition/Decrease/Downregulation<br><b>Dosing:</b> general</td>\n",
       "      <td>N/A</td>\n",
       "      <td><a href=\"https://doi.org/10.1002/9781118098141.ch2\" style=\"font-size: 14px;\">Urban et al. (2012)</a></td>\n",
       "    </tr>\n",
       "    <tr>\n",
       "      <td><a href=\"https://platform.opentargets.org/disease/EFO_0009853\" style=\"font-size: 12px;\">increased convulsions</a></td>\n",
       "      <td><a href=\"https://identifiers.org/UBERON:0001016\">nervous system</a>, <a href=\"https://identifiers.org/UBERON:0001004\">respiratory</a></td>\n",
       "      <td><b>Direction:</b> Inhibition/Decrease/Downregulation<br><b>Dosing:</b> acute</td>\n",
       "      <td>N/A</td>\n",
       "      <td><a href=\"https://europepmc.org/abstract/med/28216264\" style=\"font-size: 14px;\">Lynch et al. (2017)</a></td>\n",
       "    </tr>\n",
       "    <tr>\n",
       "      <td><a href=\"https://platform.opentargets.org/disease/GO_0050729\" style=\"font-size: 12px;\">proinflammatory effects (inferred by author)</a></td>\n",
       "      <td><a href=\"https://identifiers.org/UBERON:0004535\">cardiovascular system</a>, <a href=\"https://identifiers.org/UBERON:0002405\">immune</a></td>\n",
       "      <td><b>Direction:</b> Inhibition/Decrease/Downregulation<br><b>Dosing:</b> general</td>\n",
       "      <td>N/A</td>\n",
       "      <td><a href=\"https://doi.org/10.1002/9781118098141.ch2\" style=\"font-size: 14px;\">Urban et al. (2012)</a></td>\n",
       "    </tr>\n",
       "    <tr>\n",
       "      <td>angiogenesis</td>\n",
       "      <td><a href=\"https://identifiers.org/UBERON:0004535\">cardiovascular system</a>, <a href=\"https://identifiers.org/UBERON:0002405\">immune</a></td>\n",
       "      <td><b>Direction:</b> Activation/Increase/Upregulation<br><b>Dosing:</b> general</td>\n",
       "      <td>N/A</td>\n",
       "      <td><a href=\"https://doi.org/10.1002/9781118098141.ch2\" style=\"font-size: 14px;\">Urban et al. (2012)</a></td>\n",
       "    </tr>\n",
       "  </tbody>\n",
       "</table>"
      ],
      "text/plain": [
       "<IPython.core.display.HTML object>"
      ]
     },
     "metadata": {},
     "output_type": "display_data"
    }
   ],
   "source": [
    "response = analyzer.get_safety()\n",
    "display_safety_events(response)"
   ]
  }
 ],
 "metadata": {
  "kernelspec": {
   "display_name": "Python 3 (ipykernel)",
   "language": "python",
   "name": "python3"
  },
  "language_info": {
   "codemirror_mode": {
    "name": "ipython",
    "version": 3
   },
   "file_extension": ".py",
   "mimetype": "text/x-python",
   "name": "python",
   "nbconvert_exporter": "python",
   "pygments_lexer": "ipython3",
   "version": "3.10.9"
  }
 },
 "nbformat": 4,
 "nbformat_minor": 5
}
