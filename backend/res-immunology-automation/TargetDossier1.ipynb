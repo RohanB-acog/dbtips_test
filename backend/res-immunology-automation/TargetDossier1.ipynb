{
 "cells": [
  {
   "cell_type": "code",
   "execution_count": 4,
   "metadata": {
    "tags": ["hide_input"]
    },
   "outputs": [],
   "source": [
    "import ipywidgets as widgets\n",
    "from ipywidgets import interact, VBox, Dropdown, Output\n",
    "from IPython.display import display, clear_output, HTML, IFrame, Markdown\n",
    "import numpy as np\n",
    "import pandas as pd\n",
    "import matplotlib.pyplot as plt\n",
    "from matplotlib.patches import Patch\n",
    "from matplotlib.colors import Normalize\n",
    "from matplotlib.cm import viridis\n",
    "import requests\n",
    "import seaborn as sns\n",
    "import json\n",
    "import plotly.graph_objects as go\n",
    "from plotly.subplots import make_subplots\n",
    "from res_immunology_automation.src.scripts.target_analyzer import TargetAnalyzer\n",
    "from helper import *\n",
    "import warnings\n",
    "warnings.filterwarnings('ignore')"
   ]
  },
  {
   "cell_type": "code",
   "execution_count": 5,
   "metadata": {
    "tags": ["hide_input"]
    },
   "outputs": [],
   "source": [
    "class TargetDiseaseAnalyzerApp:\n",
    "    def __init__(self):\n",
    "        self.output = Output()\n",
    "        self.target_input = widgets.Text(description='Target Gene:')\n",
    "        self.analyze_button = widgets.Button(description='Analyze Target')\n",
    "        self.analyze_button.on_click(self.perform_analysis)\n",
    "        self.main_container = widgets.VBox([self.target_input, self.analyze_button, self.output])\n",
    "        display(self.main_container)\n",
    "\n",
    "    def perform_analysis(self, _):\n",
    "        with self.output:\n",
    "            clear_output(wait=True)\n",
    "            target = self.target_input.value.strip()\n",
    "            if not target:\n",
    "                display(Markdown('Please enter a target gene name.'))\n",
    "                return\n",
    "            analyzer = TargetAnalyzer(target)\n",
    "            self.display_all_information(analyzer)\n",
    "\n",
    "    def display_all_information(self, analyzer):\n",
    "        display(Markdown('### Target Introduction'))\n",
    "        api_response = analyzer.get_target_introduction()\n",
    "        display_target_info(api_response)\n",
    "        display(Markdown('### Target Description'))\n",
    "        description_response = analyzer.get_target_description()\n",
    "        display_target_information(description_response)\n",
    "\n",
    "\n",
    "        display(Markdown('### Taxonomy'))\n",
    "        display_organism_taxonomy_details(api_response)\n",
    "\n",
    "        display(Markdown('### Disease Association'))\n",
    "        setup_disease_selection_interface(analyzer.target)\n",
    "\n",
    "        display(Markdown('### Targetability'))\n",
    "        targetability_response = analyzer.get_targetablitiy()\n",
    "        parse_and_plot_targetability(targetability_response,self.target_input.value)\n",
    "\n",
    "        display(Markdown('### Tractability'))\n",
    "        tractability_response = analyzer.get_tractability()\n",
    "        plot_tractability(tractability_response)\n",
    "\n",
    "        display(Markdown('### Target Ontology'))\n",
    "        ontology_response = analyzer.get_target_ontology()\n",
    "        ontology_df = parse_gene_ontology(ontology_response)\n",
    "        display(HTML(ontology_df.to_html(escape=False)))\n",
    "\n",
    "        display_go_ribbon(analyzer.hgnc_id)\n",
    "\n",
    "        display(Markdown('### Mouse Phenotypes'))\n",
    "        mouse_phenotypes_response = analyzer.get_mouse_phenotypes()\n",
    "        parse_mouse_phenotypes(mouse_phenotypes_response)\n",
    "\n",
    "        display(Markdown('### Paralogs'))\n",
    "        comparative_genomics_response = analyzer.get_comparative_genomics()\n",
    "        parse_and_display_homologue_table(comparative_genomics_response)\n",
    "\n",
    "        display(Markdown('### Differential RNA/Protein Expressions'))\n",
    "        expression_response = analyzer.get_differential_rna_and_protein_expression()\n",
    "        df = prepare_data(expression_response['data']['target']['expressions'])\n",
    "        setup_interactive_plot(df)\n",
    "\n",
    "        display(Markdown('### Protein Structure and Organization'))\n",
    "        display_feature_viewer(analyzer.uniprot_id)\n",
    "\n",
    "        display(Markdown('### Subcellular Section'))\n",
    "        topology_features_response = analyzer.get_target_topology_features()\n",
    "        display_topology_table(topology_features_response)\n",
    "        \n",
    "        display(Markdown('### Known Drugs'))\n",
    "        knowndrugs_response = analyzer.get_known_drugs()\n",
    "        process_and_display_knowndrugs(knowndrugs_response)\n",
    "        \n",
    "        display(Markdown('### Safety Events'))\n",
    "        safety_response = analyzer.get_safety()\n",
    "        display_safety_events(safety_response)"
   ]
  },
  {
   "cell_type": "code",
   "execution_count": 6,
   "metadata": {
    "scrolled": false
   },
   "outputs": [
    {
     "data": {
      "application/vnd.jupyter.widget-view+json": {
       "model_id": "70466b5ed0cb4009a69b2474ef9a1420",
       "version_major": 2,
       "version_minor": 0
      },
      "text/plain": [
       "VBox(children=(Text(value='', description='Target Gene:'), Button(description='Analyze Target', style=ButtonSt…"
      ]
     },
     "metadata": {},
     "output_type": "display_data"
    }
   ],
   "source": [
    "app = TargetDiseaseAnalyzerApp()"
   ]
  },
  {
   "cell_type": "code",
   "execution_count": null,
   "metadata": {},
   "outputs": [],
   "source": []
  }
 ],
 "metadata": {
  "kernelspec": {
   "display_name": "Python 3 (ipykernel)",
   "language": "python",
   "name": "python3"
  },
  "language_info": {
   "codemirror_mode": {
    "name": "ipython",
    "version": 3
   },
   "file_extension": ".py",
   "mimetype": "text/x-python",
   "name": "python",
   "nbconvert_exporter": "python",
   "pygments_lexer": "ipython3",
   "version": "3.10.9"
  }
 },
 "nbformat": 4,
 "nbformat_minor": 2
}
