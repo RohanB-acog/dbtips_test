{
 "cells": [
  {
   "cell_type": "code",
   "execution_count": 7,
   "id": "0acfdf68",
   "metadata": {},
   "outputs": [],
   "source": [
    "import sys\n",
    "sys.path.append('/app/res_immunology_automation/src/scripts')\n",
    "\n",
    "from main import TargetDiseaseAnalyzerApp"
   ]
  },
  {
   "cell_type": "code",
   "execution_count": 3,
   "id": "defe9446",
   "metadata": {
    "scrolled": false
   },
   "outputs": [
    {
     "data": {
      "application/vnd.jupyter.widget-view+json": {
       "model_id": "cd573762d3c84bd4863946bde0d2b9df",
       "version_major": 2,
       "version_minor": 0
      },
      "text/plain": [
       "VBox(children=(Text(value='', description='Target Gene:'), Button(description='Analyze Target', style=ButtonSt…"
      ]
     },
     "metadata": {},
     "output_type": "display_data"
    }
   ],
   "source": [
    "app = TargetDiseaseAnalyzerApp()"
   ]
  },
  {
   "cell_type": "code",
   "execution_count": 6,
   "id": "9e65082f",
   "metadata": {},
   "outputs": [
    {
     "name": "stdout",
     "output_type": "stream",
     "text": [
      "[NbConvertApp] Converting notebook Sample.ipynb to html\n",
      "[NbConvertApp] Writing 271592 bytes to Sample.html\n"
     ]
    }
   ],
   "source": [
    "!jupyter nbconvert --to html --template lab Sample.ipynb"
   ]
  }
 ],
 "metadata": {
  "kernelspec": {
   "display_name": "Python 3 (ipykernel)",
   "language": "python",
   "name": "python3"
  },
  "language_info": {
   "codemirror_mode": {
    "name": "ipython",
    "version": 3
   },
   "file_extension": ".py",
   "mimetype": "text/x-python",
   "name": "python",
   "nbconvert_exporter": "python",
   "pygments_lexer": "ipython3",
   "version": "3.10.9"
  }
 },
 "nbformat": 4,
 "nbformat_minor": 5
}
